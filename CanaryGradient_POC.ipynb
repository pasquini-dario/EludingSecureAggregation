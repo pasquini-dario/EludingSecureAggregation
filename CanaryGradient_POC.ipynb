{
 "cells": [
  {
   "cell_type": "code",
   "execution_count": 1,
   "metadata": {},
   "outputs": [],
   "source": [
    "import os\n",
    "os.environ['CUDA_VISIBLE_DEVICES'] = '0'\n",
    "\n",
    "import tensorflow as tf\n",
    "import numpy as np\n",
    "import matplotlib.pyplot as plt\n",
    "import math\n",
    "from functools import partial\n",
    "\n",
    "\n",
    "\n",
    "import models\n",
    "from datasets import load_dataset_classification, get_one_sample\n",
    "from canary_utility import repack_model, get_preCanaryTrainable_variables_Conv2D\n",
    "from utility import lr_schlr"
   ]
  },
  {
   "cell_type": "code",
   "execution_count": 2,
   "metadata": {},
   "outputs": [],
   "source": [
    "dataset_key = \"cifar100\"\n",
    "dataset_key_shadow = \"cifar10\"\n",
    "batch_size_train = 512\n",
    "batch_size_test = 64\n",
    "rng_seed = None\n",
    "make_model = models.resnet20\n",
    "# if pretrain model before canary injection (simulating FL)\n",
    "pre_train = False\n",
    "\n",
    "tf.random.set_seed(rng_seed)"
   ]
  },
  {
   "cell_type": "markdown",
   "metadata": {},
   "source": [
    "# Load datasets"
   ]
  },
  {
   "cell_type": "code",
   "execution_count": 3,
   "metadata": {},
   "outputs": [
    {
     "data": {
      "image/png": "[encoded data removed]",
      "text/plain": [
       "<Figure size 432x288 with 1 Axes>"
      ]
     },
     "metadata": {
      "needs_background": "light"
     },
     "output_type": "display_data"
    }
   ],
   "source": [
    "# load target for MIA \n",
    "pool_targets, x_shape, class_num = load_dataset_classification(dataset_key, batch_size_test, split='test')\n",
    "# load local training set users for evaluation phase\n",
    "dataset_validation, _, _ = load_dataset_classification(dataset_key, batch_size_test, split='train', repeat=1)\n",
    "# load shadow dataset for canary injection\n",
    "shadow, x_shape_s, _ = load_dataset_classification(dataset_key_shadow, batch_size_train, split='train')\n",
    "\n",
    "assert x_shape_s == x_shape\n",
    "\n",
    "x_target, y_target = get_one_sample(pool_targets)\n",
    "plt.imshow((x_target[0]+1)/2);"
   ]
  },
  {
   "cell_type": "markdown",
   "metadata": {},
   "source": [
    "# Setup model for target"
   ]
  },
  {
   "cell_type": "code",
   "execution_count": 4,
   "metadata": {},
   "outputs": [],
   "source": [
    "model = make_model(x_shape, class_num)\n",
    "\n",
    "if pre_train:\n",
    "    ..."
   ]
  },
  {
   "cell_type": "code",
   "execution_count": 5,
   "metadata": {},
   "outputs": [],
   "source": [
    "#[(i,x.name) for i, x in enumerate(model.layers)]"
   ]
  },
  {
   "cell_type": "markdown",
   "metadata": {},
   "source": [
    "# Chosing canary location (i.e., $\\xi$)"
   ]
  },
  {
   "cell_type": "code",
   "execution_count": 6,
   "metadata": {},
   "outputs": [
    {
     "name": "stdout",
     "output_type": "stream",
     "text": [
      "----> layer_normalization_20 (None, 8, 8, 64)\n",
      "--------> (None, 8, 8)\n",
      "input_1\n",
      "\n",
      "conv2d\n",
      "\t conv2d/kernel:0\n",
      "\n",
      "layer_normalization\n",
      "\t layer_normalization/gamma:0\n",
      "\t layer_normalization/beta:0\n",
      "\n",
      "activation\n",
      "\n",
      "conv2d_1\n",
      "\t conv2d_1/kernel:0\n",
      "\n",
      "layer_normalization_1\n",
      "\t layer_normalization_1/gamma:0\n",
      "\t layer_normalization_1/beta:0\n",
      "\n",
      "activation_1\n",
      "\n",
      "conv2d_2\n",
      "\t conv2d_2/kernel:0\n",
      "\n",
      "layer_normalization_2\n",
      "\t layer_normalization_2/gamma:0\n",
      "\t layer_normalization_2/beta:0\n",
      "\n",
      "activation_2\n",
      "\n",
      "tf.__operators__.add\n",
      "\n",
      "conv2d_3\n",
      "\t conv2d_3/kernel:0\n",
      "\n",
      "layer_normalization_3\n",
      "\t layer_normalization_3/gamma:0\n",
      "\t layer_normalization_3/beta:0\n",
      "\n",
      "activation_3\n",
      "\n",
      "conv2d_4\n",
      "\t conv2d_4/kernel:0\n",
      "\n",
      "layer_normalization_4\n",
      "\t layer_normalization_4/gamma:0\n",
      "\t layer_normalization_4/beta:0\n",
      "\n",
      "activation_4\n",
      "\n",
      "tf.__operators__.add_1\n",
      "\n",
      "conv2d_5\n",
      "\t conv2d_5/kernel:0\n",
      "\n",
      "layer_normalization_5\n",
      "\t layer_normalization_5/gamma:0\n",
      "\t layer_normalization_5/beta:0\n",
      "\n",
      "activation_5\n",
      "\n",
      "conv2d_6\n",
      "\t conv2d_6/kernel:0\n",
      "\n",
      "layer_normalization_6\n",
      "\t layer_normalization_6/gamma:0\n",
      "\t layer_normalization_6/beta:0\n",
      "\n",
      "activation_6\n",
      "\n",
      "tf.__operators__.add_2\n",
      "\n",
      "conv2d_7\n",
      "\t conv2d_7/kernel:0\n",
      "\n",
      "layer_normalization_7\n",
      "\t layer_normalization_7/gamma:0\n",
      "\t layer_normalization_7/beta:0\n",
      "\n",
      "activation_7\n",
      "\n",
      "conv2d_8\n",
      "\t conv2d_8/kernel:0\n",
      "\n",
      "layer_normalization_8\n",
      "\t layer_normalization_8/gamma:0\n",
      "\t layer_normalization_8/beta:0\n",
      "\n",
      "conv2d_9\n",
      "\t conv2d_9/kernel:0\n",
      "\n",
      "activation_8\n",
      "\n",
      "layer_normalization_9\n",
      "\t layer_normalization_9/gamma:0\n",
      "\t layer_normalization_9/beta:0\n",
      "\n",
      "tf.__operators__.add_3\n",
      "\n",
      "conv2d_10\n",
      "\t conv2d_10/kernel:0\n",
      "\n",
      "layer_normalization_10\n",
      "\t layer_normalization_10/gamma:0\n",
      "\t layer_normalization_10/beta:0\n",
      "\n",
      "activation_9\n",
      "\n",
      "conv2d_11\n",
      "\t conv2d_11/kernel:0\n",
      "\n",
      "layer_normalization_11\n",
      "\t layer_normalization_11/gamma:0\n",
      "\t layer_normalization_11/beta:0\n",
      "\n",
      "activation_10\n",
      "\n",
      "tf.__operators__.add_4\n",
      "\n",
      "conv2d_12\n",
      "\t conv2d_12/kernel:0\n",
      "\n",
      "layer_normalization_12\n",
      "\t layer_normalization_12/gamma:0\n",
      "\t layer_normalization_12/beta:0\n",
      "\n",
      "activation_11\n",
      "\n",
      "conv2d_13\n",
      "\t conv2d_13/kernel:0\n",
      "\n",
      "layer_normalization_13\n",
      "\t layer_normalization_13/gamma:0\n",
      "\t layer_normalization_13/beta:0\n",
      "\n",
      "activation_12\n",
      "\n",
      "tf.__operators__.add_5\n",
      "\n",
      "conv2d_14\n",
      "\t conv2d_14/kernel:0\n",
      "\n",
      "layer_normalization_14\n",
      "\t layer_normalization_14/gamma:0\n",
      "\t layer_normalization_14/beta:0\n",
      "\n",
      "activation_13\n",
      "\n",
      "conv2d_15\n",
      "\t conv2d_15/kernel:0\n",
      "\n",
      "layer_normalization_15\n",
      "\t layer_normalization_15/gamma:0\n",
      "\t layer_normalization_15/beta:0\n",
      "\n",
      "conv2d_16\n",
      "\t conv2d_16/kernel:0\n",
      "\n",
      "activation_14\n",
      "\n",
      "layer_normalization_16\n",
      "\t layer_normalization_16/gamma:0\n",
      "\t layer_normalization_16/beta:0\n",
      "\n",
      "tf.__operators__.add_6\n",
      "\n",
      "conv2d_17\n",
      "\t conv2d_17/kernel:0\n",
      "\n",
      "layer_normalization_17\n",
      "\t layer_normalization_17/gamma:0\n",
      "\t layer_normalization_17/beta:0\n",
      "\n",
      "activation_15\n",
      "\n",
      "conv2d_18\n",
      "\t conv2d_18/kernel:0\n",
      "\n",
      "layer_normalization_18\n",
      "\t layer_normalization_18/gamma:0\n",
      "\t layer_normalization_18/beta:0\n",
      "\n",
      "activation_16\n",
      "\n",
      "tf.__operators__.add_7\n",
      "\n",
      "conv2d_19\n",
      "\t conv2d_19/kernel:0\n",
      "\n",
      "layer_normalization_19\n",
      "\t layer_normalization_19/gamma:0\n",
      "\t layer_normalization_19/beta:0\n",
      "\n",
      "activation_17\n",
      "\n",
      "conv2d_20\n",
      "\t conv2d_20/kernel:0\n",
      "\n",
      "layer_normalization_20\n",
      "\t layer_normalization_20/gamma:0\n",
      "\t layer_normalization_20/beta:0\n",
      "\n"
     ]
    }
   ],
   "source": [
    "loss_function = models.sparse_classification_loss\n",
    "layer_idx = 68\n",
    "#layer_idx = 14\n",
    "#layer_idx = 7\n",
    "g_canary_shift = -2\n",
    "kernel_idx = 0\n",
    "\n",
    "model = repack_model(model, layer_idx, kernel_idx)\n",
    "pre_canary_layer_trainable_variables = get_preCanaryTrainable_variables_Conv2D(model, layer_idx+1)"
   ]
  },
  {
   "cell_type": "code",
   "execution_count": 7,
   "metadata": {},
   "outputs": [],
   "source": [
    "def make_loss(att, mask, W):\n",
    "    loss = tf.keras.losses.MSE(att, mask)\n",
    "    loss = loss * W\n",
    "    loss = tf.reduce_mean(loss)\n",
    "    return loss\n",
    "\n",
    "def attack_iteration(model, x, mask, W, variables, opt):   \n",
    "    with tf.GradientTape() as tape:\n",
    "        _, att = model(x, training=True)    \n",
    "        loss = make_loss(att, mask, W)  \n",
    "        \n",
    "    gradients = tape.gradient(loss, variables)\n",
    "    opt.apply_gradients(zip(gradients, variables))\n",
    "    return loss\n",
    "\n",
    "\n",
    "def inject_canary(\n",
    "    max_number_of_iters,\n",
    "    batch_size,\n",
    "    model,\n",
    "    target,\n",
    "    shadow_dataset,\n",
    "    variables,\n",
    "    opt,\n",
    "    loss_threshold=0.0010,\n",
    "    check_steps=10,\n",
    "    min_num_iterations=1000,\n",
    "):\n",
    "    LOG = []\n",
    "\n",
    "    canary_shape = model.output[1].shape.as_list()[1:]\n",
    "    class_num = model.output[0].shape[1]\n",
    "    \n",
    "    \n",
    "    mask = np.ones((batch_size, *canary_shape), np.float32) * -1\n",
    "    mask[-1] = 1\n",
    "\n",
    "    mask_b = np.ones((batch_size, 1), np.float32)\n",
    "    mask_b[-1] = batch_size - 1\n",
    "\n",
    "    loss_avg = 0.\n",
    "    for i, batch in enumerate(shadow_dataset):\n",
    "        x, _ = batch\n",
    "        x = tf.concat([x[:-1], target], 0)\n",
    "        loss = attack_iteration(model, x, mask, mask_b, variables, opt)\n",
    "        loss = loss.numpy()\n",
    "        \n",
    "        loss_avg += loss\n",
    "        \n",
    "        if i % check_steps == 0:\n",
    "            loss_avg /= check_steps\n",
    "            LOG.append(loss)\n",
    "            \n",
    "            if loss_avg <= loss_threshold and i > min_num_iterations:\n",
    "                print(\"Loss Threshold reached!\")\n",
    "                return LOG, True\n",
    "                \n",
    "            loss_avg = 0.\n",
    "\n",
    "        if i > max_number_of_iters:\n",
    "            print(\"Max number of iterations reached!\")\n",
    "            return LOG, False\n",
    "\n",
    "    return LOG, False"
   ]
  },
  {
   "cell_type": "code",
   "execution_count": 8,
   "metadata": {},
   "outputs": [
    {
     "name": "stdout",
     "output_type": "stream",
     "text": [
      "Loss Threshold reached!\n"
     ]
    },
    {
     "data": {
      "image/png": "[encoded data removed]",
      "text/plain": [
       "<Figure size 432x288 with 1 Axes>"
      ]
     },
     "metadata": {
      "needs_background": "light"
     },
     "output_type": "display_data"
    }
   ],
   "source": [
    "max_number_of_iters = 10000\n",
    "#init_lr = .01\n",
    "#setps_lrs = [1000, 2000]\n",
    "#opt = tf.keras.optimizers.Adam(lr_schlr(init_lr, setps_lrs))\n",
    "opt = tf.keras.optimizers.Adam()\n",
    "loss_threshold = 0.0001\n",
    "\n",
    "logs = inject_canary(\n",
    "    max_number_of_iters,\n",
    "    batch_size_train,\n",
    "    model,\n",
    "    x_target,\n",
    "    shadow,\n",
    "    pre_canary_layer_trainable_variables,\n",
    "    opt,\n",
    "    loss_threshold=loss_threshold\n",
    ")\n",
    "\n",
    "plt.plot(logs[0]);"
   ]
  },
  {
   "cell_type": "code",
   "execution_count": 9,
   "metadata": {},
   "outputs": [
    {
     "data": {
      "text/plain": [
       "{'accuracy': 0.9923175416133163,\n",
       " 'recall': 1.0,\n",
       " 'precision': 0.9848675914249685}"
      ]
     },
     "execution_count": 9,
     "metadata": {},
     "output_type": "execute_result"
    }
   ],
   "source": [
    "from canary_utility import *\n",
    "\n",
    "\n",
    "def find_fail(X, acts):\n",
    "    Xfail = []\n",
    "    for i, act in enumerate(acts):\n",
    "        failed = np.any(act > 0)\n",
    "        if failed:\n",
    "            Xfail.append(X[i])\n",
    "    return Xfail\n",
    "\n",
    "def evaluate_canary_attack(\n",
    "    model,\n",
    "    target,\n",
    "    dataset_validation,\n",
    "    variables,\n",
    "    loss_function,\n",
    "    g_canary_shift=-1,\n",
    "    kernel_idx=0\n",
    "):\n",
    "    \n",
    "    # tn fp\n",
    "    neg = [0, 0]\n",
    "    # tp fn\n",
    "    pos = [0, 0]\n",
    "    \n",
    "    failed = []\n",
    "\n",
    "    n = 0\n",
    "    for i, batch in enumerate(dataset_validation):\n",
    "        # batch without target\n",
    "        negative, y = batch\n",
    "        # batch with target (the label does not care)\n",
    "        positive = tf.concat([negative[:-1], target], 0)\n",
    "\n",
    "        neg_g, neg_act = get_gradient(negative, y, model, loss_function, variables)\n",
    "        neg_g = get_canary_gradient(neg_g, g_canary_shift, kernel_idx).sum().tolist()\n",
    "        \n",
    "        pos_g, _ = get_gradient(positive, y, model, loss_function, variables)\n",
    "        pos_g = get_canary_gradient(pos_g, g_canary_shift, kernel_idx).sum().tolist()\n",
    "\n",
    "        neg[neg_g != 0] += 1\n",
    "        pos[pos_g == 0] += 1\n",
    "        \n",
    "        if neg_g != 0:\n",
    "            fail = find_fail(negative.numpy(), neg_act)\n",
    "            failed.append(fail)\n",
    "        \n",
    "        n += 1\n",
    "\n",
    "#         if max_n and i >= max_n:\n",
    "#             print(\"Max number of iterations evaluation reached!\")\n",
    "#             break\n",
    "\n",
    "    acc = (neg[0] + pos[0]) / (n * 2)\n",
    "    recall = pos[0] / n\n",
    "    try:\n",
    "        precision = pos[0] / (pos[0] + neg[1])\n",
    "    except:\n",
    "        precision = np.nan\n",
    "    \n",
    "    out = {\n",
    "        'accuracy' : acc,\n",
    "        'recall' : recall,\n",
    "        'precision' : precision,\n",
    "    }\n",
    "    \n",
    "    return out, failed\n",
    "\n",
    "\n",
    "test_canary_fn = partial(\n",
    "    evaluate_canary_attack,\n",
    "    target=x_target,\n",
    "    dataset_validation=dataset_validation,\n",
    "    variables=pre_canary_layer_trainable_variables,\n",
    "    loss_function=loss_function,\n",
    "    g_canary_shift=g_canary_shift,\n",
    "    kernel_idx=kernel_idx\n",
    ")\n",
    "\n",
    "out, failed = test_canary_fn(model)\n",
    "out"
   ]
  },
  {
   "cell_type": "code",
   "execution_count": 10,
   "metadata": {},
   "outputs": [
    {
     "data": {
      "image/png": "[encoded data removed]",
      "text/plain": [
       "<Figure size 216x216 with 1 Axes>"
      ]
     },
     "metadata": {
      "needs_background": "light"
     },
     "output_type": "display_data"
    },
    {
     "data": {
      "image/png": "[encoded data removed]",
      "text/plain": [
       "<Figure size 216x216 with 1 Axes>"
      ]
     },
     "metadata": {
      "needs_background": "light"
     },
     "output_type": "display_data"
    },
    {
     "data": {
      "image/png": "[encoded data removed]",
      "text/plain": [
       "<Figure size 216x216 with 1 Axes>"
      ]
     },
     "metadata": {
      "needs_background": "light"
     },
     "output_type": "display_data"
    },
    {
     "data": {
      "image/png": "[encoded data removed]",
      "text/plain": [
       "<Figure size 216x216 with 1 Axes>"
      ]
     },
     "metadata": {
      "needs_background": "light"
     },
     "output_type": "display_data"
    },
    {
     "data": {
      "image/png": "[encoded data removed]",
      "text/plain": [
       "<Figure size 216x216 with 1 Axes>"
      ]
     },
     "metadata": {
      "needs_background": "light"
     },
     "output_type": "display_data"
    },
    {
     "data": {
      "image/png": "[encoded data removed]",
      "text/plain": [
       "<Figure size 216x216 with 1 Axes>"
      ]
     },
     "metadata": {
      "needs_background": "light"
     },
     "output_type": "display_data"
    }
   ],
   "source": [
    "fig, ax = plt.subplots(1,1,figsize=(3,3))\n",
    "ax.imshow((x_target[0]+1)/2);\n",
    "\n",
    "for x in failed[:5]:\n",
    "    fig, ax = plt.subplots(1,1,figsize=(3,3))\n",
    "    ax.imshow((x[0]+1)/2)"
   ]
  },
  {
   "cell_type": "code",
   "execution_count": null,
   "metadata": {},
   "outputs": [],
   "source": [
    "from utility import deepCopyModel\n",
    "usr_model_copy = deepCopyModel(model)\n",
    "num_iter = 5\n",
    "learning_rate = 0.001\n",
    "\n",
    "def local_training(\n",
    "    model,\n",
    "    training_set,\n",
    "    num_iter,\n",
    "    learning_rate,\n",
    "    loss_function,\n",
    "    test_canary_fn\n",
    "):\n",
    "    opt = tf.keras.optimizers.SGD(learning_rate)\n",
    "    S = []\n",
    "    for i, (x, y) in enumerate(training_set):\n",
    "        with tf.GradientTape() as tape:\n",
    "            y_, att = model(x, training=True)\n",
    "            loss = loss_function(y, y_)\n",
    "        g = tape.gradient(loss, model.trainable_variables)\n",
    "        opt.apply_gradients(zip(g, model.trainable_variables))\n",
    "        score, _ = test_canary_fn(model)\n",
    "        S.append(score)\n",
    "        print(f' FedAVG round: {i+1}\\n\\t{score}')\n",
    "        \n",
    "        if i == num_iter-1:\n",
    "            break\n",
    "    return S\n",
    "        \n",
    "    \n",
    "S = local_training(\n",
    "    model,\n",
    "    dataset_validation,\n",
    "    num_iter,\n",
    "    learning_rate,\n",
    "    loss_function,\n",
    "    test_canary_fn\n",
    ")"
   ]
  },
  {
   "cell_type": "code",
   "execution_count": null,
   "metadata": {},
   "outputs": [],
   "source": []
  }
 ],
 "metadata": {
  "kernelspec": {
   "display_name": "Python 3",
   "language": "python",
   "name": "python3"
  },
  "language_info": {
   "codemirror_mode": {
    "name": "ipython",
    "version": 3
   },
   "file_extension": ".py",
   "mimetype": "text/x-python",
   "name": "python",
   "nbconvert_exporter": "python",
   "pygments_lexer": "ipython3",
   "version": "3.7.4"
  }
 },
 "nbformat": 4,
 "nbformat_minor": 4
}
