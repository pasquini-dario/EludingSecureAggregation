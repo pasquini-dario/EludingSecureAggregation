{
 "cells": [
  {
   "cell_type": "code",
   "execution_count": 1,
   "metadata": {},
   "outputs": [],
   "source": [
    "import os\n",
    "os.environ['CUDA_VISIBLE_DEVICES'] = '0'\n",
    "\n",
    "import tensorflow as tf\n",
    "import numpy as np\n",
    "import matplotlib.pyplot as plt\n",
    "import math\n",
    "\n",
    "import models\n",
    "from datasets import load_dataset_classification, get_one_sample\n",
    "from canary_utility import repack_model, get_preCanaryTrainable_variables_Conv2D\n",
    "from utility import lr_schlr"
   ]
  },
  {
   "cell_type": "code",
   "execution_count": 2,
   "metadata": {},
   "outputs": [],
   "source": [
    "dataset_key = \"cifar100\"\n",
    "dataset_key_shadow = \"cifar10\"\n",
    "batch_size_train = 64\n",
    "batch_size_test = 64\n",
    "rng_seed = 0\n",
    "make_model = models.resnet18\n",
    "# if pretrain model before canary injection (simulating FL)\n",
    "pre_train = False\n",
    "\n",
    "tf.random.set_seed(rng_seed)"
   ]
  },
  {
   "cell_type": "markdown",
   "metadata": {},
   "source": [
    "# Load datasets"
   ]
  },
  {
   "cell_type": "code",
   "execution_count": 3,
   "metadata": {},
   "outputs": [
    {
     "data": {
      "image/png": "[encoded data removed]",
      "text/plain": [
       "<Figure size 432x288 with 1 Axes>"
      ]
     },
     "metadata": {
      "needs_background": "light"
     },
     "output_type": "display_data"
    }
   ],
   "source": [
    "# load target for MIA \n",
    "pool_targets, x_shape, class_num = load_dataset_classification(dataset_key, batch_size_train, split='test')\n",
    "# load local training set users for evaluation phase\n",
    "dataset_validation, _, _ = load_dataset_classification(dataset_key, batch_size_test, split='train', repeat=1)\n",
    "# load shadow dataset for canary injection\n",
    "shadow, x_shape_s, _ = load_dataset_classification(dataset_key_shadow, batch_size_train, split='train')\n",
    "\n",
    "assert x_shape_s == x_shape\n",
    "\n",
    "x_target, y_target = get_one_sample(pool_targets)\n",
    "plt.imshow((x_target[0]+1)/2);"
   ]
  },
  {
   "cell_type": "markdown",
   "metadata": {},
   "source": [
    "# Setup model for target"
   ]
  },
  {
   "cell_type": "code",
   "execution_count": 4,
   "metadata": {},
   "outputs": [],
   "source": [
    "model = make_model(x_shape, class_num)\n",
    "\n",
    "if pre_train:\n",
    "    ..."
   ]
  },
  {
   "cell_type": "markdown",
   "metadata": {},
   "source": [
    "# Chosing canary location (i.e., $\\xi$)"
   ]
  },
  {
   "cell_type": "code",
   "execution_count": 5,
   "metadata": {},
   "outputs": [
    {
     "name": "stdout",
     "output_type": "stream",
     "text": [
      "----> layer_normalization_3 (None, 8, 8, 128)\n",
      "input_1\n",
      "\n",
      "conv2d\n",
      "\t conv2d/kernel:0\n",
      "\t conv2d/bias:0\n",
      "\n",
      "activation\n",
      "\n",
      "max_pooling2d\n",
      "\n",
      "layer_normalization\n",
      "\t layer_normalization/gamma:0\n",
      "\t layer_normalization/beta:0\n",
      "\n",
      "activation_1\n",
      "\n",
      "conv2d_1\n",
      "\t conv2d_1/kernel:0\n",
      "\t conv2d_1/bias:0\n",
      "\n",
      "layer_normalization_1\n",
      "\t layer_normalization_1/gamma:0\n",
      "\t layer_normalization_1/beta:0\n",
      "\n",
      "activation_2\n",
      "\n",
      "conv2d_2\n",
      "\t conv2d_2/kernel:0\n",
      "\t conv2d_2/bias:0\n",
      "\n",
      "tf.__operators__.add\n",
      "\n",
      "layer_normalization_2\n",
      "\t layer_normalization_2/gamma:0\n",
      "\t layer_normalization_2/beta:0\n",
      "\n",
      "activation_3\n",
      "\n",
      "conv2d_3\n",
      "\t conv2d_3/kernel:0\n",
      "\t conv2d_3/bias:0\n",
      "\n",
      "layer_normalization_3\n",
      "\t layer_normalization_3/gamma:0\n",
      "\t layer_normalization_3/beta:0\n",
      "\n"
     ]
    }
   ],
   "source": [
    "loss_function = models.sparse_classification_loss\n",
    "#layer_idx = 37\n",
    "layer_idx = 14\n",
    "g_canary_shift = -2\n",
    "kernel_idx = 0\n",
    "\n",
    "model = repack_model(model, layer_idx, kernel_idx)\n",
    "pre_canary_layer_trainable_variables = get_preCanaryTrainable_variables_Conv2D(model, layer_idx+1)"
   ]
  },
  {
   "cell_type": "code",
   "execution_count": 6,
   "metadata": {},
   "outputs": [],
   "source": [
    "def make_loss(att, mask, W):\n",
    "    loss = tf.keras.losses.MSE(att, mask)\n",
    "    loss = loss * W\n",
    "    loss = tf.reduce_mean(loss)\n",
    "    return loss\n",
    "\n",
    "def attack_iteration(model, x, mask, W, variables, opt):   \n",
    "    with tf.GradientTape() as tape:\n",
    "        _, att = model(x, training=True)    \n",
    "        loss = make_loss(att, mask, W)  \n",
    "        \n",
    "    gradients = tape.gradient(loss, variables)\n",
    "    opt.apply_gradients(zip(gradients, variables))\n",
    "    return loss\n",
    "\n",
    "\n",
    "def inject_canary(\n",
    "    max_number_of_iters,\n",
    "    batch_size,\n",
    "    model,\n",
    "    target,\n",
    "    shadow_dataset,\n",
    "    variables,\n",
    "    opt,\n",
    "    loss_threshold=0.0010,\n",
    "    check_steps=10,\n",
    "    min_num_iterations=1000,\n",
    "):\n",
    "    LOG = []\n",
    "\n",
    "    canary_shape = model.output[1].shape.as_list()[1:]\n",
    "    class_num = model.output[0].shape[1]\n",
    "    \n",
    "    \n",
    "    mask = np.ones((batch_size, *canary_shape), np.float32) * -1\n",
    "    mask[-1] = 1\n",
    "\n",
    "    mask_b = np.ones((batch_size, 1), np.float32)\n",
    "    mask_b[-1] = batch_size - 1\n",
    "\n",
    "    loss_avg = 0.\n",
    "    for i, batch in enumerate(shadow_dataset):\n",
    "        x, _ = batch\n",
    "        x = tf.concat([x[:-1], target], 0)\n",
    "        loss = attack_iteration(model, x, mask, mask_b, variables, opt)\n",
    "        loss = loss.numpy()\n",
    "        \n",
    "        loss_avg += loss\n",
    "        \n",
    "        if i % check_steps == 0:\n",
    "            loss_avg /= check_steps\n",
    "            LOG.append(loss)\n",
    "            \n",
    "            if loss_avg <= loss_threshold and i > min_num_iterations:\n",
    "                print(\"Loss Threshold reached!\")\n",
    "                return LOG, True\n",
    "                \n",
    "            loss_avg = 0.\n",
    "\n",
    "        if i > max_number_of_iters:\n",
    "            print(\"Max number of iterations reached!\")\n",
    "            return LOG, False\n",
    "\n",
    "    return LOG, False"
   ]
  },
  {
   "cell_type": "code",
   "execution_count": 7,
   "metadata": {},
   "outputs": [
    {
     "name": "stdout",
     "output_type": "stream",
     "text": [
      "Loss Threshold reached!\n"
     ]
    },
    {
     "data": {
      "image/png": "[encoded data removed]",
      "text/plain": [
       "<Figure size 432x288 with 1 Axes>"
      ]
     },
     "metadata": {
      "needs_background": "light"
     },
     "output_type": "display_data"
    }
   ],
   "source": [
    "max_number_of_iters = 10000\n",
    "init_lr = .01\n",
    "#setps_lrs = [1000, 2000]\n",
    "#opt = tf.keras.optimizers.Adam(lr_schlr(init_lr, setps_lrs))\n",
    "opt = tf.keras.optimizers.Adam()\n",
    "loss_threshold = 0.001\n",
    "\n",
    "logs = inject_canary(\n",
    "    max_number_of_iters,\n",
    "    batch_size_train,\n",
    "    model,\n",
    "    x_target,\n",
    "    shadow,\n",
    "    pre_canary_layer_trainable_variables,\n",
    "    opt,\n",
    "    loss_threshold=loss_threshold\n",
    ")\n",
    "\n",
    "plt.plot(logs[0]);"
   ]
  },
  {
   "cell_type": "code",
   "execution_count": 8,
   "metadata": {},
   "outputs": [
    {
     "name": "stdout",
     "output_type": "stream",
     "text": [
      "Number of iterations for evaluation: 780\n"
     ]
    }
   ],
   "source": [
    "from canary_utility import *\n",
    "\n",
    "def evaluate_canary_attack(\n",
    "    max_n,\n",
    "    model,\n",
    "    target,\n",
    "    dataset_validation,\n",
    "    variables,\n",
    "    loss_function,\n",
    "    g_canary_shift=-1,\n",
    "    kernel_idx=0\n",
    "):\n",
    "    \n",
    "    # tn fp\n",
    "    neg = [0, 0]\n",
    "    # tp fn\n",
    "    pos = [0, 0]\n",
    "\n",
    "    n = 0\n",
    "    for i, batch in enumerate(dataset_validation):\n",
    "        # batch without target\n",
    "        negative, y = batch\n",
    "        # batch with target (the label does not care)\n",
    "        positive = tf.concat([negative[:-1], target], 0)\n",
    "\n",
    "        neg_g, _ = get_gradient(negative, y, model, loss_function, variables)\n",
    "        neg_g = get_canary_gradient(neg_g, g_canary_shift, kernel_idx).sum().tolist()\n",
    "        \n",
    "        pos_g, _ = get_gradient(positive, y, model, loss_function, variables)\n",
    "        pos_g = get_canary_gradient(pos_g, g_canary_shift, kernel_idx).sum().tolist()\n",
    "\n",
    "        neg[neg_g != 0] += 1\n",
    "        pos[pos_g == 0] += 1\n",
    "        \n",
    "        n += 1\n",
    "\n",
    "        if max_n and i >= max_n:\n",
    "            print(\"Max number of iterations evaluation reached!\")\n",
    "            break\n",
    "\n",
    "    acc = (neg[0] + pos[0]) / (n * 2)\n",
    "    recall = pos[0] / n\n",
    "    try:\n",
    "        precision = pos[0] / (pos[0] + neg[1])\n",
    "    except:\n",
    "        precision = np.nan\n",
    "    \n",
    "    out = {\n",
    "        'accuracy' : acc,\n",
    "        'recall' : recall,\n",
    "        'precision' : precision,\n",
    "    }\n",
    "    \n",
    "    print(\"Number of iterations for evaluation:\", i)\n",
    "\n",
    "    return  out\n",
    "\n",
    "\n",
    "out = evaluate_canary_attack(\n",
    "    False,\n",
    "    model,\n",
    "    x_target,\n",
    "    dataset_validation,\n",
    "    pre_canary_layer_trainable_variables,\n",
    "    loss_function,\n",
    "    g_canary_shift=g_canary_shift,\n",
    "    kernel_idx=kernel_idx\n",
    ")"
   ]
  },
  {
   "cell_type": "code",
   "execution_count": 9,
   "metadata": {},
   "outputs": [
    {
     "data": {
      "text/plain": [
       "{'accuracy': 0.9647887323943662,\n",
       " 'recall': 1.0,\n",
       " 'precision': 0.9342105263157895}"
      ]
     },
     "execution_count": 9,
     "metadata": {},
     "output_type": "execute_result"
    }
   ],
   "source": [
    "out"
   ]
  },
  {
   "cell_type": "code",
   "execution_count": null,
   "metadata": {},
   "outputs": [],
   "source": []
  }
 ],
 "metadata": {
  "kernelspec": {
   "display_name": "Python 3",
   "language": "python",
   "name": "python3"
  },
  "language_info": {
   "codemirror_mode": {
    "name": "ipython",
    "version": 3
   },
   "file_extension": ".py",
   "mimetype": "text/x-python",
   "name": "python",
   "nbconvert_exporter": "python",
   "pygments_lexer": "ipython3",
   "version": "3.7.4"
  }
 },
 "nbformat": 4,
 "nbformat_minor": 4
}
