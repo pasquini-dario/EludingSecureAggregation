{
 "cells": [
  {
   "cell_type": "code",
   "execution_count": 1,
   "metadata": {},
   "outputs": [],
   "source": [
    "import os\n",
    "os.environ['CUDA_VISIBLE_DEVICES'] = '15'\n",
    "\n",
    "import tensorflow as tf\n",
    "import numpy as np\n",
    "import matplotlib.pyplot as plt\n",
    "import math\n",
    "from functools import partial\n",
    "\n",
    "import models\n",
    "from utility import lr_schlr\n",
    "from canary_attack import load_dataset, setup_model, evaluate_canary_attack, inject_canary\n",
    "from canary_utility import local_training\n",
    "from canary_attack import inject_canary"
   ]
  },
  {
   "cell_type": "code",
   "execution_count": 16,
   "metadata": {},
   "outputs": [
    {
     "name": "stdout",
     "output_type": "stream",
     "text": [
      "0_cifar100_cifar10_256_0.0005_resnet20_last_layer_0.0005_0.001\n"
     ]
    }
   ],
   "source": [
    "rng_seed = None\n",
    "dataset_key = \"cifar100\"\n",
    "dataset_key_shadow = \"cifar10\"\n",
    "batch_size_train = 256\n",
    "batch_size_test = 64\n",
    "# if pretrain model before canary injection (simulating FL)\n",
    "pre_train = False\n",
    "\n",
    "# attack\n",
    "max_number_of_iters = 10000\n",
    "#init_lr = .01\n",
    "#setps_lrs = [1000, 2000]\n",
    "#opt = tf.keras.optimizers.Adam(lr_schlr(init_lr, setps_lrs))\n",
    "opt = tf.keras.optimizers.Adam()\n",
    "\n",
    "model_id = 'resnet20'\n",
    "canary_id = 'last_layer'\n",
    "loss_function = models.sparse_classification_loss\n",
    "max_number_of_iters = 2000\n",
    "loss_threshold = 0.0005\n",
    "\n",
    "# FedAVG\n",
    "num_iter_fedAVG = 15\n",
    "learning_rate_fedAVG = 0.001\n",
    "\n",
    "name = '_'.join(map(str,[dataset_key, dataset_key_shadow, batch_size_train, loss_threshold, model_id, canary_id, loss_threshold, learning_rate_fedAVG]))\n",
    "print(name)"
   ]
  },
  {
   "cell_type": "markdown",
   "metadata": {},
   "source": [
    "# Load datasets"
   ]
  },
  {
   "cell_type": "code",
   "execution_count": 3,
   "metadata": {},
   "outputs": [
    {
     "data": {
      "image/png": "[encoded data removed]",
      "text/plain": [
       "<Figure size 432x288 with 1 Axes>"
      ]
     },
     "metadata": {
      "needs_background": "light"
     },
     "output_type": "display_data"
    }
   ],
   "source": [
    "tf.random.set_seed(rng_seed)\n",
    "\n",
    "validation, shadow, x_shape, class_num, (x_target, y_target) = load_dataset(\n",
    "    dataset_key,\n",
    "    dataset_key_shadow,\n",
    "    batch_size_test,\n",
    "    batch_size_train,\n",
    "    data_aug_shadow=False\n",
    ")\n",
    "    \n",
    "plt.imshow((x_target[0]+1)/2);"
   ]
  },
  {
   "cell_type": "markdown",
   "metadata": {},
   "source": [
    "# Chosing canary location (i.e., $\\xi$)"
   ]
  },
  {
   "cell_type": "code",
   "execution_count": 4,
   "metadata": {},
   "outputs": [
    {
     "name": "stdout",
     "output_type": "stream",
     "text": [
      "----> layer_normalization_20 (None, 8, 8, 64)\n",
      "--------> (None, 8, 8)\n",
      "input_1\n",
      "\n",
      "conv2d\n",
      "\t conv2d/kernel:0\n",
      "\n",
      "layer_normalization\n",
      "\t layer_normalization/gamma:0\n",
      "\t layer_normalization/beta:0\n",
      "\n",
      "activation\n",
      "\n",
      "conv2d_1\n",
      "\t conv2d_1/kernel:0\n",
      "\n",
      "layer_normalization_1\n",
      "\t layer_normalization_1/gamma:0\n",
      "\t layer_normalization_1/beta:0\n",
      "\n",
      "activation_1\n",
      "\n",
      "conv2d_2\n",
      "\t conv2d_2/kernel:0\n",
      "\n",
      "layer_normalization_2\n",
      "\t layer_normalization_2/gamma:0\n",
      "\t layer_normalization_2/beta:0\n",
      "\n",
      "activation_2\n",
      "\n",
      "tf.__operators__.add\n",
      "\n",
      "conv2d_3\n",
      "\t conv2d_3/kernel:0\n",
      "\n",
      "layer_normalization_3\n",
      "\t layer_normalization_3/gamma:0\n",
      "\t layer_normalization_3/beta:0\n",
      "\n",
      "activation_3\n",
      "\n",
      "conv2d_4\n",
      "\t conv2d_4/kernel:0\n",
      "\n",
      "layer_normalization_4\n",
      "\t layer_normalization_4/gamma:0\n",
      "\t layer_normalization_4/beta:0\n",
      "\n",
      "activation_4\n",
      "\n",
      "tf.__operators__.add_1\n",
      "\n",
      "conv2d_5\n",
      "\t conv2d_5/kernel:0\n",
      "\n",
      "layer_normalization_5\n",
      "\t layer_normalization_5/gamma:0\n",
      "\t layer_normalization_5/beta:0\n",
      "\n",
      "activation_5\n",
      "\n",
      "conv2d_6\n",
      "\t conv2d_6/kernel:0\n",
      "\n",
      "layer_normalization_6\n",
      "\t layer_normalization_6/gamma:0\n",
      "\t layer_normalization_6/beta:0\n",
      "\n",
      "activation_6\n",
      "\n",
      "tf.__operators__.add_2\n",
      "\n",
      "conv2d_7\n",
      "\t conv2d_7/kernel:0\n",
      "\n",
      "layer_normalization_7\n",
      "\t layer_normalization_7/gamma:0\n",
      "\t layer_normalization_7/beta:0\n",
      "\n",
      "activation_7\n",
      "\n",
      "conv2d_8\n",
      "\t conv2d_8/kernel:0\n",
      "\n",
      "layer_normalization_8\n",
      "\t layer_normalization_8/gamma:0\n",
      "\t layer_normalization_8/beta:0\n",
      "\n",
      "conv2d_9\n",
      "\t conv2d_9/kernel:0\n",
      "\n",
      "activation_8\n",
      "\n",
      "layer_normalization_9\n",
      "\t layer_normalization_9/gamma:0\n",
      "\t layer_normalization_9/beta:0\n",
      "\n",
      "tf.__operators__.add_3\n",
      "\n",
      "conv2d_10\n",
      "\t conv2d_10/kernel:0\n",
      "\n",
      "layer_normalization_10\n",
      "\t layer_normalization_10/gamma:0\n",
      "\t layer_normalization_10/beta:0\n",
      "\n",
      "activation_9\n",
      "\n",
      "conv2d_11\n",
      "\t conv2d_11/kernel:0\n",
      "\n",
      "layer_normalization_11\n",
      "\t layer_normalization_11/gamma:0\n",
      "\t layer_normalization_11/beta:0\n",
      "\n",
      "activation_10\n",
      "\n",
      "tf.__operators__.add_4\n",
      "\n",
      "conv2d_12\n",
      "\t conv2d_12/kernel:0\n",
      "\n",
      "layer_normalization_12\n",
      "\t layer_normalization_12/gamma:0\n",
      "\t layer_normalization_12/beta:0\n",
      "\n",
      "activation_11\n",
      "\n",
      "conv2d_13\n",
      "\t conv2d_13/kernel:0\n",
      "\n",
      "layer_normalization_13\n",
      "\t layer_normalization_13/gamma:0\n",
      "\t layer_normalization_13/beta:0\n",
      "\n",
      "activation_12\n",
      "\n",
      "tf.__operators__.add_5\n",
      "\n",
      "conv2d_14\n",
      "\t conv2d_14/kernel:0\n",
      "\n",
      "layer_normalization_14\n",
      "\t layer_normalization_14/gamma:0\n",
      "\t layer_normalization_14/beta:0\n",
      "\n",
      "activation_13\n",
      "\n",
      "conv2d_15\n",
      "\t conv2d_15/kernel:0\n",
      "\n",
      "layer_normalization_15\n",
      "\t layer_normalization_15/gamma:0\n",
      "\t layer_normalization_15/beta:0\n",
      "\n",
      "conv2d_16\n",
      "\t conv2d_16/kernel:0\n",
      "\n",
      "activation_14\n",
      "\n",
      "layer_normalization_16\n",
      "\t layer_normalization_16/gamma:0\n",
      "\t layer_normalization_16/beta:0\n",
      "\n",
      "tf.__operators__.add_6\n",
      "\n",
      "conv2d_17\n",
      "\t conv2d_17/kernel:0\n",
      "\n",
      "layer_normalization_17\n",
      "\t layer_normalization_17/gamma:0\n",
      "\t layer_normalization_17/beta:0\n",
      "\n",
      "activation_15\n",
      "\n",
      "conv2d_18\n",
      "\t conv2d_18/kernel:0\n",
      "\n",
      "layer_normalization_18\n",
      "\t layer_normalization_18/gamma:0\n",
      "\t layer_normalization_18/beta:0\n",
      "\n",
      "activation_16\n",
      "\n",
      "tf.__operators__.add_7\n",
      "\n",
      "conv2d_19\n",
      "\t conv2d_19/kernel:0\n",
      "\n",
      "layer_normalization_19\n",
      "\t layer_normalization_19/gamma:0\n",
      "\t layer_normalization_19/beta:0\n",
      "\n",
      "activation_17\n",
      "\n",
      "conv2d_20\n",
      "\t conv2d_20/kernel:0\n",
      "\n",
      "layer_normalization_20\n",
      "\t layer_normalization_20/gamma:0\n",
      "\t layer_normalization_20/beta:0\n",
      "\n"
     ]
    }
   ],
   "source": [
    "model, layer_idx, g_canary_shift, kernel_idx, pre_canary_layer_trainable_variables = setup_model(model_id, canary_id, x_shape, class_num)"
   ]
  },
  {
   "cell_type": "raw",
   "metadata": {
    "jupyter": {
     "source_hidden": true
    }
   },
   "source": [
    "def make_loss(att, mask, W):\n",
    "    s = att.shape[1] * att.shape[2]\n",
    "    att = tf.reshape(att, (-1, s))\n",
    "    mask = tf.reshape(mask, (-1, s))\n",
    "    loss = tf.keras.losses.BinaryCrossentropy(from_logits=True, reduction=tf.losses.Reduction.NONE)(mask, att)\n",
    "    loss = loss * W\n",
    "    loss = tf.reduce_mean(loss)\n",
    "    return loss\n",
    "\n",
    "def attack_iteration(model, x, mask, W, variables, opt):   \n",
    "    with tf.GradientTape() as tape:\n",
    "        _, att = model(x, training=True)    \n",
    "        loss = make_loss(att, mask, W)  \n",
    "        \n",
    "    gradients = tape.gradient(loss, variables)\n",
    "    opt.apply_gradients(zip(gradients, variables))\n",
    "    return loss\n",
    "\n",
    "\n",
    "def inject_canary(\n",
    "    max_number_of_iters,\n",
    "    batch_size,\n",
    "    model,\n",
    "    target,\n",
    "    shadow_dataset,\n",
    "    variables,\n",
    "    opt,\n",
    "    loss_threshold=0.0010,\n",
    "    check_steps=10,\n",
    "    min_num_iterations=1000,\n",
    "    w=5,\n",
    "):\n",
    "    LOG = []\n",
    "\n",
    "    canary_shape = model.output[1].shape.as_list()[1:]\n",
    "    class_num = model.output[0].shape[1]\n",
    "    \n",
    "    mask = np.ones((batch_size, *canary_shape), np.float32) * 0\n",
    "    mask[-1] = 1\n",
    "\n",
    "    mask_b = np.ones((batch_size, 1), np.float32)\n",
    "    mask_b[-1] = (batch_size - 1) * w\n",
    "\n",
    "    loss_avg = 0.\n",
    "    for i, batch in enumerate(shadow_dataset):\n",
    "        x, _ = batch\n",
    "        \n",
    "        x = tf.concat([x[:-1], target], 0)\n",
    "        loss = attack_iteration(model, x, mask, mask_b, variables, opt)\n",
    "        loss = loss.numpy()\n",
    "        \n",
    "        loss_avg += loss\n",
    "        \n",
    "        if i % check_steps == 0:\n",
    "            loss_avg /= check_steps\n",
    "            LOG.append(loss)\n",
    "            \n",
    "            if loss_avg <= loss_threshold and i > min_num_iterations:\n",
    "                print(\"Loss Threshold reached!\")\n",
    "                return LOG, True\n",
    "                \n",
    "            loss_avg = 0.\n",
    "\n",
    "        if i > max_number_of_iters:\n",
    "            print(\"Max number of iterations reached!\")\n",
    "            return LOG, False\n",
    "\n",
    "    return LOG, False"
   ]
  },
  {
   "cell_type": "code",
   "execution_count": 5,
   "metadata": {},
   "outputs": [
    {
     "name": "stdout",
     "output_type": "stream",
     "text": [
      "Loss Threshold reached!\n"
     ]
    },
    {
     "data": {
      "image/png": "[encoded data removed]",
      "text/plain": [
       "<Figure size 432x288 with 1 Axes>"
      ]
     },
     "metadata": {
      "needs_background": "light"
     },
     "output_type": "display_data"
    }
   ],
   "source": [
    "logs = inject_canary(\n",
    "    max_number_of_iters,\n",
    "    batch_size_train,\n",
    "    model,\n",
    "    x_target,\n",
    "    shadow,\n",
    "    pre_canary_layer_trainable_variables,\n",
    "    opt,\n",
    "    loss_threshold=loss_threshold\n",
    ")\n",
    "\n",
    "plt.plot(logs[0]);"
   ]
  },
  {
   "cell_type": "code",
   "execution_count": 6,
   "metadata": {},
   "outputs": [
    {
     "name": "stdout",
     "output_type": "stream",
     "text": [
      "Max number of iterations evaluation reached!\n"
     ]
    },
    {
     "data": {
      "text/plain": [
       "{'accuracy': 1.0, 'recall': 1.0, 'precision': 1.0}"
      ]
     },
     "execution_count": 6,
     "metadata": {},
     "output_type": "execute_result"
    }
   ],
   "source": [
    "test_canary_fn = partial(\n",
    "    evaluate_canary_attack,\n",
    "    target=x_target,\n",
    "    dataset_validation=validation,\n",
    "    variables=pre_canary_layer_trainable_variables,\n",
    "    loss_function=loss_function,\n",
    "    g_canary_shift=g_canary_shift,\n",
    "    kernel_idx=kernel_idx\n",
    ")\n",
    "\n",
    "out, failed = test_canary_fn(model)\n",
    "out"
   ]
  },
  {
   "cell_type": "code",
   "execution_count": 7,
   "metadata": {},
   "outputs": [
    {
     "data": {
      "image/png": "[encoded data removed]",
      "text/plain": [
       "<Figure size 216x216 with 1 Axes>"
      ]
     },
     "metadata": {
      "needs_background": "light"
     },
     "output_type": "display_data"
    }
   ],
   "source": [
    "fig, ax = plt.subplots(1,1,figsize=(3,3))\n",
    "ax.imshow((x_target[0]+1)/2);\n",
    "\n",
    "for x in failed[:5]:\n",
    "    fig, ax = plt.subplots(1,1,figsize=(3,3))\n",
    "    ax.imshow((x[0]+1)/2)"
   ]
  },
  {
   "cell_type": "code",
   "execution_count": 8,
   "metadata": {},
   "outputs": [
    {
     "name": "stdout",
     "output_type": "stream",
     "text": [
      "Max number of iterations evaluation reached!\n",
      " FedAVG round: 1\n",
      "\t{'accuracy': 1.0, 'recall': 1.0, 'precision': 1.0}\n",
      "Max number of iterations evaluation reached!\n",
      " FedAVG round: 2\n",
      "\t{'accuracy': 1.0, 'recall': 1.0, 'precision': 1.0}\n",
      "Max number of iterations evaluation reached!\n",
      " FedAVG round: 3\n",
      "\t{'accuracy': 1.0, 'recall': 1.0, 'precision': 1.0}\n",
      "Max number of iterations evaluation reached!\n",
      " FedAVG round: 4\n",
      "\t{'accuracy': 1.0, 'recall': 1.0, 'precision': 1.0}\n",
      "Max number of iterations evaluation reached!\n",
      " FedAVG round: 5\n",
      "\t{'accuracy': 1.0, 'recall': 1.0, 'precision': 1.0}\n",
      "Max number of iterations evaluation reached!\n",
      " FedAVG round: 6\n",
      "\t{'accuracy': 1.0, 'recall': 1.0, 'precision': 1.0}\n",
      "Max number of iterations evaluation reached!\n",
      " FedAVG round: 7\n",
      "\t{'accuracy': 1.0, 'recall': 1.0, 'precision': 1.0}\n",
      "Max number of iterations evaluation reached!\n",
      " FedAVG round: 8\n",
      "\t{'accuracy': 1.0, 'recall': 1.0, 'precision': 1.0}\n",
      "Max number of iterations evaluation reached!\n",
      " FedAVG round: 9\n",
      "\t{'accuracy': 1.0, 'recall': 1.0, 'precision': 1.0}\n"
     ]
    },
    {
     "ename": "KeyboardInterrupt",
     "evalue": "",
     "output_type": "error",
     "traceback": [
      "\u001b[0;31m---------------------------------------------------------------------------\u001b[0m",
      "\u001b[0;31mKeyboardInterrupt\u001b[0m                         Traceback (most recent call last)",
      "\u001b[0;32m<ipython-input-8-05deebaf333c>\u001b[0m in \u001b[0;36m<module>\u001b[0;34m\u001b[0m\n\u001b[1;32m      5\u001b[0m     \u001b[0mlearning_rate_fedAVG\u001b[0m\u001b[0;34m,\u001b[0m\u001b[0;34m\u001b[0m\u001b[0;34m\u001b[0m\u001b[0m\n\u001b[1;32m      6\u001b[0m     \u001b[0mloss_function\u001b[0m\u001b[0;34m,\u001b[0m\u001b[0;34m\u001b[0m\u001b[0;34m\u001b[0m\u001b[0m\n\u001b[0;32m----> 7\u001b[0;31m     \u001b[0mtest_canary_fn\u001b[0m\u001b[0;34m\u001b[0m\u001b[0;34m\u001b[0m\u001b[0m\n\u001b[0m\u001b[1;32m      8\u001b[0m )\n",
      "\u001b[0;32m~/active_projects/EludingSecureAggregation/canary_utility.py\u001b[0m in \u001b[0;36mlocal_training\u001b[0;34m(model, training_set, num_iter, learning_rate, loss_function, test_canary_fn)\u001b[0m\n\u001b[1;32m     62\u001b[0m         \u001b[0mopt\u001b[0m\u001b[0;34m.\u001b[0m\u001b[0mapply_gradients\u001b[0m\u001b[0;34m(\u001b[0m\u001b[0mzip\u001b[0m\u001b[0;34m(\u001b[0m\u001b[0mg\u001b[0m\u001b[0;34m,\u001b[0m \u001b[0mmodel\u001b[0m\u001b[0;34m.\u001b[0m\u001b[0mtrainable_variables\u001b[0m\u001b[0;34m)\u001b[0m\u001b[0;34m)\u001b[0m\u001b[0;34m\u001b[0m\u001b[0;34m\u001b[0m\u001b[0m\n\u001b[1;32m     63\u001b[0m \u001b[0;34m\u001b[0m\u001b[0m\n\u001b[0;32m---> 64\u001b[0;31m         \u001b[0mscore\u001b[0m\u001b[0;34m,\u001b[0m \u001b[0m_\u001b[0m \u001b[0;34m=\u001b[0m \u001b[0mtest_canary_fn\u001b[0m\u001b[0;34m(\u001b[0m\u001b[0mmodel\u001b[0m\u001b[0;34m)\u001b[0m\u001b[0;34m\u001b[0m\u001b[0;34m\u001b[0m\u001b[0m\n\u001b[0m\u001b[1;32m     65\u001b[0m         \u001b[0mcanary_scores\u001b[0m\u001b[0;34m.\u001b[0m\u001b[0mappend\u001b[0m\u001b[0;34m(\u001b[0m\u001b[0mscore\u001b[0m\u001b[0;34m)\u001b[0m\u001b[0;34m\u001b[0m\u001b[0;34m\u001b[0m\u001b[0m\n\u001b[1;32m     66\u001b[0m         \u001b[0mprint\u001b[0m\u001b[0;34m(\u001b[0m\u001b[0;34mf' FedAVG round: {i+1}\\n\\t{score}'\u001b[0m\u001b[0;34m)\u001b[0m\u001b[0;34m\u001b[0m\u001b[0;34m\u001b[0m\u001b[0m\n",
      "\u001b[0;32m~/active_projects/EludingSecureAggregation/canary_attack.py\u001b[0m in \u001b[0;36mevaluate_canary_attack\u001b[0;34m(model, target, dataset_validation, variables, loss_function, g_canary_shift, kernel_idx)\u001b[0m\n\u001b[1;32m    222\u001b[0m         \u001b[0mneg_g\u001b[0m \u001b[0;34m=\u001b[0m \u001b[0mget_canary_gradient\u001b[0m\u001b[0;34m(\u001b[0m\u001b[0mneg_g\u001b[0m\u001b[0;34m,\u001b[0m \u001b[0mg_canary_shift\u001b[0m\u001b[0;34m,\u001b[0m \u001b[0mkernel_idx\u001b[0m\u001b[0;34m)\u001b[0m\u001b[0;34m.\u001b[0m\u001b[0msum\u001b[0m\u001b[0;34m(\u001b[0m\u001b[0;34m)\u001b[0m\u001b[0;34m.\u001b[0m\u001b[0mtolist\u001b[0m\u001b[0;34m(\u001b[0m\u001b[0;34m)\u001b[0m\u001b[0;34m\u001b[0m\u001b[0;34m\u001b[0m\u001b[0m\n\u001b[1;32m    223\u001b[0m \u001b[0;34m\u001b[0m\u001b[0m\n\u001b[0;32m--> 224\u001b[0;31m         \u001b[0mpos_g\u001b[0m\u001b[0;34m,\u001b[0m \u001b[0mpos_act\u001b[0m \u001b[0;34m=\u001b[0m \u001b[0mget_gradient\u001b[0m\u001b[0;34m(\u001b[0m\u001b[0mpositive\u001b[0m\u001b[0;34m,\u001b[0m \u001b[0my\u001b[0m\u001b[0;34m,\u001b[0m \u001b[0mmodel\u001b[0m\u001b[0;34m,\u001b[0m \u001b[0mloss_function\u001b[0m\u001b[0;34m,\u001b[0m \u001b[0mvariables\u001b[0m\u001b[0;34m)\u001b[0m\u001b[0;34m\u001b[0m\u001b[0;34m\u001b[0m\u001b[0m\n\u001b[0m\u001b[1;32m    225\u001b[0m         \u001b[0mpos_g\u001b[0m \u001b[0;34m=\u001b[0m \u001b[0mget_canary_gradient\u001b[0m\u001b[0;34m(\u001b[0m\u001b[0mpos_g\u001b[0m\u001b[0;34m,\u001b[0m \u001b[0mg_canary_shift\u001b[0m\u001b[0;34m,\u001b[0m \u001b[0mkernel_idx\u001b[0m\u001b[0;34m)\u001b[0m\u001b[0;34m.\u001b[0m\u001b[0msum\u001b[0m\u001b[0;34m(\u001b[0m\u001b[0;34m)\u001b[0m\u001b[0;34m.\u001b[0m\u001b[0mtolist\u001b[0m\u001b[0;34m(\u001b[0m\u001b[0;34m)\u001b[0m\u001b[0;34m\u001b[0m\u001b[0;34m\u001b[0m\u001b[0m\n\u001b[1;32m    226\u001b[0m \u001b[0;34m\u001b[0m\u001b[0m\n",
      "\u001b[0;32m~/active_projects/EludingSecureAggregation/canary_utility.py\u001b[0m in \u001b[0;36mget_gradient\u001b[0;34m(x, y, model, loss_function, variables)\u001b[0m\n\u001b[1;32m     41\u001b[0m         \u001b[0my_\u001b[0m\u001b[0;34m,\u001b[0m \u001b[0matt\u001b[0m \u001b[0;34m=\u001b[0m \u001b[0mmodel\u001b[0m\u001b[0;34m(\u001b[0m\u001b[0mx\u001b[0m\u001b[0;34m,\u001b[0m \u001b[0mtraining\u001b[0m\u001b[0;34m=\u001b[0m\u001b[0;32mTrue\u001b[0m\u001b[0;34m)\u001b[0m\u001b[0;34m\u001b[0m\u001b[0;34m\u001b[0m\u001b[0m\n\u001b[1;32m     42\u001b[0m         \u001b[0mloss\u001b[0m \u001b[0;34m=\u001b[0m \u001b[0mloss_function\u001b[0m\u001b[0;34m(\u001b[0m\u001b[0my\u001b[0m\u001b[0;34m,\u001b[0m \u001b[0my_\u001b[0m\u001b[0;34m)\u001b[0m\u001b[0;34m\u001b[0m\u001b[0;34m\u001b[0m\u001b[0m\n\u001b[0;32m---> 43\u001b[0;31m     \u001b[0mg\u001b[0m \u001b[0;34m=\u001b[0m \u001b[0mtape\u001b[0m\u001b[0;34m.\u001b[0m\u001b[0mgradient\u001b[0m\u001b[0;34m(\u001b[0m\u001b[0mloss\u001b[0m\u001b[0;34m,\u001b[0m \u001b[0mvariables\u001b[0m\u001b[0;34m)\u001b[0m\u001b[0;34m\u001b[0m\u001b[0;34m\u001b[0m\u001b[0m\n\u001b[0m\u001b[1;32m     44\u001b[0m     \u001b[0;32mreturn\u001b[0m \u001b[0;34m[\u001b[0m\u001b[0mgg\u001b[0m\u001b[0;34m.\u001b[0m\u001b[0mnumpy\u001b[0m\u001b[0;34m(\u001b[0m\u001b[0;34m)\u001b[0m \u001b[0;32mfor\u001b[0m \u001b[0mgg\u001b[0m \u001b[0;32min\u001b[0m \u001b[0mg\u001b[0m\u001b[0;34m]\u001b[0m\u001b[0;34m,\u001b[0m \u001b[0matt\u001b[0m\u001b[0;34m\u001b[0m\u001b[0;34m\u001b[0m\u001b[0m\n\u001b[1;32m     45\u001b[0m \u001b[0;34m\u001b[0m\u001b[0m\n",
      "\u001b[0;32m~/.anaconda3/lib/python3.7/site-packages/tensorflow/python/eager/backprop.py\u001b[0m in \u001b[0;36mgradient\u001b[0;34m(self, target, sources, output_gradients, unconnected_gradients)\u001b[0m\n\u001b[1;32m   1088\u001b[0m         \u001b[0moutput_gradients\u001b[0m\u001b[0;34m=\u001b[0m\u001b[0moutput_gradients\u001b[0m\u001b[0;34m,\u001b[0m\u001b[0;34m\u001b[0m\u001b[0;34m\u001b[0m\u001b[0m\n\u001b[1;32m   1089\u001b[0m         \u001b[0msources_raw\u001b[0m\u001b[0;34m=\u001b[0m\u001b[0mflat_sources_raw\u001b[0m\u001b[0;34m,\u001b[0m\u001b[0;34m\u001b[0m\u001b[0;34m\u001b[0m\u001b[0m\n\u001b[0;32m-> 1090\u001b[0;31m         unconnected_gradients=unconnected_gradients)\n\u001b[0m\u001b[1;32m   1091\u001b[0m \u001b[0;34m\u001b[0m\u001b[0m\n\u001b[1;32m   1092\u001b[0m     \u001b[0;32mif\u001b[0m \u001b[0;32mnot\u001b[0m \u001b[0mself\u001b[0m\u001b[0;34m.\u001b[0m\u001b[0m_persistent\u001b[0m\u001b[0;34m:\u001b[0m\u001b[0;34m\u001b[0m\u001b[0;34m\u001b[0m\u001b[0m\n",
      "\u001b[0;32m~/.anaconda3/lib/python3.7/site-packages/tensorflow/python/eager/imperative_grad.py\u001b[0m in \u001b[0;36mimperative_grad\u001b[0;34m(tape, target, sources, output_gradients, sources_raw, unconnected_gradients)\u001b[0m\n\u001b[1;32m     75\u001b[0m       \u001b[0moutput_gradients\u001b[0m\u001b[0;34m,\u001b[0m\u001b[0;34m\u001b[0m\u001b[0;34m\u001b[0m\u001b[0m\n\u001b[1;32m     76\u001b[0m       \u001b[0msources_raw\u001b[0m\u001b[0;34m,\u001b[0m\u001b[0;34m\u001b[0m\u001b[0;34m\u001b[0m\u001b[0m\n\u001b[0;32m---> 77\u001b[0;31m       compat.as_str(unconnected_gradients.value))\n\u001b[0m",
      "\u001b[0;32m~/.anaconda3/lib/python3.7/site-packages/tensorflow/python/eager/backprop.py\u001b[0m in \u001b[0;36m_zeros\u001b[0;34m(shape, dtype)\u001b[0m\n\u001b[1;32m    674\u001b[0m \u001b[0;34m\u001b[0m\u001b[0m\n\u001b[1;32m    675\u001b[0m \u001b[0;34m\u001b[0m\u001b[0m\n\u001b[0;32m--> 676\u001b[0;31m \u001b[0;32mdef\u001b[0m \u001b[0m_zeros\u001b[0m\u001b[0;34m(\u001b[0m\u001b[0mshape\u001b[0m\u001b[0;34m,\u001b[0m \u001b[0mdtype\u001b[0m\u001b[0;34m)\u001b[0m\u001b[0;34m:\u001b[0m\u001b[0;34m\u001b[0m\u001b[0;34m\u001b[0m\u001b[0m\n\u001b[0m\u001b[1;32m    677\u001b[0m   \u001b[0;34m\"\"\"Helper to return (possibly cached) zero tensors in eager mode.\"\"\"\u001b[0m\u001b[0;34m\u001b[0m\u001b[0;34m\u001b[0m\u001b[0m\n\u001b[1;32m    678\u001b[0m   \u001b[0;31m# Note: variants will use _zeros_like\u001b[0m\u001b[0;34m\u001b[0m\u001b[0;34m\u001b[0m\u001b[0;34m\u001b[0m\u001b[0m\n",
      "\u001b[0;31mKeyboardInterrupt\u001b[0m: "
     ]
    }
   ],
   "source": [
    "canary_scores_FedAVG = local_training(\n",
    "    model,\n",
    "    validation,\n",
    "    num_iter_fedAVG,\n",
    "    learning_rate_fedAVG,\n",
    "    loss_function,\n",
    "    test_canary_fn\n",
    ")"
   ]
  },
  {
   "cell_type": "code",
   "execution_count": null,
   "metadata": {},
   "outputs": [],
   "source": [
    "fig, ax = plt.subplots(1, 1, figsize=(5,3))\n",
    "ax.plot([x['accuracy'] for x in canary_scores_FedAVG])\n",
    "ax.set(ylim=(.5,1))\n",
    "ax.grid();"
   ]
  },
  {
   "cell_type": "code",
   "execution_count": 18,
   "metadata": {},
   "outputs": [
    {
     "data": {
      "text/plain": [
       "\u001b[0;31mSignature:\u001b[0m \u001b[0mmyPickle\u001b[0m\u001b[0;34m.\u001b[0m\u001b[0mdump\u001b[0m\u001b[0;34m(\u001b[0m\u001b[0mfilename\u001b[0m\u001b[0;34m,\u001b[0m \u001b[0mdata\u001b[0m\u001b[0;34m,\u001b[0m \u001b[0;34m**\u001b[0m\u001b[0mkargs\u001b[0m\u001b[0;34m)\u001b[0m\u001b[0;34m\u001b[0m\u001b[0;34m\u001b[0m\u001b[0m\n",
       "\u001b[0;31mDocstring:\u001b[0m <no docstring>\n",
       "\u001b[0;31mFile:\u001b[0m      ~/LIBS/myPickle.py\n",
       "\u001b[0;31mType:\u001b[0m      function\n"
      ]
     },
     "metadata": {},
     "output_type": "display_data"
    }
   ],
   "source": [
    "import myPickle\n",
    "myPickle.dump?"
   ]
  },
  {
   "cell_type": "code",
   "execution_count": null,
   "metadata": {},
   "outputs": [],
   "source": []
  }
 ],
 "metadata": {
  "kernelspec": {
   "display_name": "Python 3",
   "language": "python",
   "name": "python3"
  },
  "language_info": {
   "codemirror_mode": {
    "name": "ipython",
    "version": 3
   },
   "file_extension": ".py",
   "mimetype": "text/x-python",
   "name": "python",
   "nbconvert_exporter": "python",
   "pygments_lexer": "ipython3",
   "version": "3.7.4"
  }
 },
 "nbformat": 4,
 "nbformat_minor": 4
}
