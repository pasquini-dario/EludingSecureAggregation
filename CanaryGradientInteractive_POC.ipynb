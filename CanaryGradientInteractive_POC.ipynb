{
 "cells": [
  {
   "cell_type": "markdown",
   "metadata": {},
   "source": [
    "# Example canary-gradient-based MIA"
   ]
  },
  {
   "cell_type": "code",
   "execution_count": 1,
   "metadata": {},
   "outputs": [],
   "source": [
    "import os\n",
    "os.environ['CUDA_VISIBLE_DEVICES'] = '0'\n",
    "\n",
    "import tensorflow as tf\n",
    "import numpy as np\n",
    "import matplotlib.pyplot as plt\n",
    "import math\n",
    "from functools import partial\n",
    "\n",
    "import models\n",
    "from utility import lr_schlr\n",
    "from canary_attack import load_dataset, setup_model, evaluate_canary_attack, inject_canary\n",
    "from canary_utility import local_training"
   ]
  },
  {
   "cell_type": "markdown",
   "metadata": {},
   "source": [
    "## Setup"
   ]
  },
  {
   "cell_type": "code",
   "execution_count": 2,
   "metadata": {},
   "outputs": [
    {
     "name": "stdout",
     "output_type": "stream",
     "text": [
      "cifar10_cifar100_256_0.001_resnet20_last_layer_0.001_0.001\n"
     ]
    }
   ],
   "source": [
    "rng_seed = 1\n",
    "dataset_key = \"cifar10\"\n",
    "dataset_key_shadow = \"cifar100\"\n",
    "batch_size_train = 256\n",
    "batch_size_test = 64\n",
    "\n",
    "# attack\n",
    "max_number_of_iters = 10000\n",
    "opt = tf.keras.optimizers.Adam()\n",
    "\n",
    "model_id = 'resnet20'\n",
    "canary_id = 'last_layer'\n",
    "loss_function = models.sparse_classification_loss\n",
    "max_number_of_iters = 3000\n",
    "loss_threshold = 0.001\n",
    "\n",
    "max_num_batches_eval = 100\n",
    "\n",
    "# FedAVG\n",
    "num_iter_fedAVG = 15\n",
    "learning_rate_fedAVG = 0.001\n",
    "\n",
    "name = '_'.join(map(str,[dataset_key, dataset_key_shadow, batch_size_train, loss_threshold, model_id, canary_id, loss_threshold, learning_rate_fedAVG]))\n",
    "print(name)"
   ]
  },
  {
   "cell_type": "markdown",
   "metadata": {},
   "source": [
    "## Load datasets"
   ]
  },
  {
   "cell_type": "code",
   "execution_count": 3,
   "metadata": {},
   "outputs": [
    {
     "data": {
      "image/png": "[encoded data removed]",
      "text/plain": [
       "<Figure size 432x288 with 1 Axes>"
      ]
     },
     "metadata": {
      "needs_background": "light"
     },
     "output_type": "display_data"
    }
   ],
   "source": [
    "tf.random.set_seed(rng_seed)\n",
    "np.random.seed(rng_seed)  \n",
    "\n",
    "validation, shadow, x_shape, class_num, (x_target, y_target) = load_dataset(\n",
    "    dataset_key,\n",
    "    dataset_key_shadow,\n",
    "    batch_size_test,\n",
    "    batch_size_train,\n",
    "    data_aug_shadow=False\n",
    ")\n",
    "    \n",
    "plt.imshow((x_target[0]+1)/2);"
   ]
  },
  {
   "cell_type": "markdown",
   "metadata": {},
   "source": [
    "## Chosing canary location (i.e., $\\xi$)"
   ]
  },
  {
   "cell_type": "code",
   "execution_count": 4,
   "metadata": {},
   "outputs": [
    {
     "name": "stdout",
     "output_type": "stream",
     "text": [
      "----> layer_normalization_20 (None, 8, 8, 64)\n",
      "--------> (None, 8, 8)\n",
      "input_1\n",
      "\n",
      "conv2d\n",
      "\t conv2d/kernel:0\n",
      "\n",
      "layer_normalization\n",
      "\t layer_normalization/gamma:0\n",
      "\t layer_normalization/beta:0\n",
      "\n",
      "activation\n",
      "\n",
      "conv2d_1\n",
      "\t conv2d_1/kernel:0\n",
      "\n",
      "layer_normalization_1\n",
      "\t layer_normalization_1/gamma:0\n",
      "\t layer_normalization_1/beta:0\n",
      "\n",
      "activation_1\n",
      "\n",
      "conv2d_2\n",
      "\t conv2d_2/kernel:0\n",
      "\n",
      "layer_normalization_2\n",
      "\t layer_normalization_2/gamma:0\n",
      "\t layer_normalization_2/beta:0\n",
      "\n",
      "activation_2\n",
      "\n",
      "tf.__operators__.add\n",
      "\n",
      "conv2d_3\n",
      "\t conv2d_3/kernel:0\n",
      "\n",
      "layer_normalization_3\n",
      "\t layer_normalization_3/gamma:0\n",
      "\t layer_normalization_3/beta:0\n",
      "\n",
      "activation_3\n",
      "\n",
      "conv2d_4\n",
      "\t conv2d_4/kernel:0\n",
      "\n",
      "layer_normalization_4\n",
      "\t layer_normalization_4/gamma:0\n",
      "\t layer_normalization_4/beta:0\n",
      "\n",
      "activation_4\n",
      "\n",
      "tf.__operators__.add_1\n",
      "\n",
      "conv2d_5\n",
      "\t conv2d_5/kernel:0\n",
      "\n",
      "layer_normalization_5\n",
      "\t layer_normalization_5/gamma:0\n",
      "\t layer_normalization_5/beta:0\n",
      "\n",
      "activation_5\n",
      "\n",
      "conv2d_6\n",
      "\t conv2d_6/kernel:0\n",
      "\n",
      "layer_normalization_6\n",
      "\t layer_normalization_6/gamma:0\n",
      "\t layer_normalization_6/beta:0\n",
      "\n",
      "activation_6\n",
      "\n",
      "tf.__operators__.add_2\n",
      "\n",
      "conv2d_7\n",
      "\t conv2d_7/kernel:0\n",
      "\n",
      "layer_normalization_7\n",
      "\t layer_normalization_7/gamma:0\n",
      "\t layer_normalization_7/beta:0\n",
      "\n",
      "activation_7\n",
      "\n",
      "conv2d_8\n",
      "\t conv2d_8/kernel:0\n",
      "\n",
      "layer_normalization_8\n",
      "\t layer_normalization_8/gamma:0\n",
      "\t layer_normalization_8/beta:0\n",
      "\n",
      "conv2d_9\n",
      "\t conv2d_9/kernel:0\n",
      "\n",
      "activation_8\n",
      "\n",
      "layer_normalization_9\n",
      "\t layer_normalization_9/gamma:0\n",
      "\t layer_normalization_9/beta:0\n",
      "\n",
      "tf.__operators__.add_3\n",
      "\n",
      "conv2d_10\n",
      "\t conv2d_10/kernel:0\n",
      "\n",
      "layer_normalization_10\n",
      "\t layer_normalization_10/gamma:0\n",
      "\t layer_normalization_10/beta:0\n",
      "\n",
      "activation_9\n",
      "\n",
      "conv2d_11\n",
      "\t conv2d_11/kernel:0\n",
      "\n",
      "layer_normalization_11\n",
      "\t layer_normalization_11/gamma:0\n",
      "\t layer_normalization_11/beta:0\n",
      "\n",
      "activation_10\n",
      "\n",
      "tf.__operators__.add_4\n",
      "\n",
      "conv2d_12\n",
      "\t conv2d_12/kernel:0\n",
      "\n",
      "layer_normalization_12\n",
      "\t layer_normalization_12/gamma:0\n",
      "\t layer_normalization_12/beta:0\n",
      "\n",
      "activation_11\n",
      "\n",
      "conv2d_13\n",
      "\t conv2d_13/kernel:0\n",
      "\n",
      "layer_normalization_13\n",
      "\t layer_normalization_13/gamma:0\n",
      "\t layer_normalization_13/beta:0\n",
      "\n",
      "activation_12\n",
      "\n",
      "tf.__operators__.add_5\n",
      "\n",
      "conv2d_14\n",
      "\t conv2d_14/kernel:0\n",
      "\n",
      "layer_normalization_14\n",
      "\t layer_normalization_14/gamma:0\n",
      "\t layer_normalization_14/beta:0\n",
      "\n",
      "activation_13\n",
      "\n",
      "conv2d_15\n",
      "\t conv2d_15/kernel:0\n",
      "\n",
      "layer_normalization_15\n",
      "\t layer_normalization_15/gamma:0\n",
      "\t layer_normalization_15/beta:0\n",
      "\n",
      "conv2d_16\n",
      "\t conv2d_16/kernel:0\n",
      "\n",
      "activation_14\n",
      "\n",
      "layer_normalization_16\n",
      "\t layer_normalization_16/gamma:0\n",
      "\t layer_normalization_16/beta:0\n",
      "\n",
      "tf.__operators__.add_6\n",
      "\n",
      "conv2d_17\n",
      "\t conv2d_17/kernel:0\n",
      "\n",
      "layer_normalization_17\n",
      "\t layer_normalization_17/gamma:0\n",
      "\t layer_normalization_17/beta:0\n",
      "\n",
      "activation_15\n",
      "\n",
      "conv2d_18\n",
      "\t conv2d_18/kernel:0\n",
      "\n",
      "layer_normalization_18\n",
      "\t layer_normalization_18/gamma:0\n",
      "\t layer_normalization_18/beta:0\n",
      "\n",
      "activation_16\n",
      "\n",
      "tf.__operators__.add_7\n",
      "\n",
      "conv2d_19\n",
      "\t conv2d_19/kernel:0\n",
      "\n",
      "layer_normalization_19\n",
      "\t layer_normalization_19/gamma:0\n",
      "\t layer_normalization_19/beta:0\n",
      "\n",
      "activation_17\n",
      "\n",
      "conv2d_20\n",
      "\t conv2d_20/kernel:0\n",
      "\n",
      "layer_normalization_20\n",
      "\t layer_normalization_20/gamma:0\n",
      "\t layer_normalization_20/beta:0\n",
      "\n"
     ]
    }
   ],
   "source": [
    "model, layer_idx, g_canary_shift, kernel_idx, pre_canary_layer_trainable_variables = setup_model(model_id, canary_id, x_shape, class_num)"
   ]
  },
  {
   "cell_type": "markdown",
   "metadata": {},
   "source": [
    "## Injecting Canary"
   ]
  },
  {
   "cell_type": "code",
   "execution_count": 5,
   "metadata": {},
   "outputs": [
    {
     "name": "stdout",
     "output_type": "stream",
     "text": [
      "Loss Threshold reached!\n"
     ]
    },
    {
     "data": {
      "image/png": "[encoded data removed]",
      "text/plain": [
       "<Figure size 432x288 with 1 Axes>"
      ]
     },
     "metadata": {
      "needs_background": "light"
     },
     "output_type": "display_data"
    }
   ],
   "source": [
    "logs = inject_canary(\n",
    "    max_number_of_iters,\n",
    "    batch_size_train,\n",
    "    model,\n",
    "    x_target,\n",
    "    shadow,\n",
    "    pre_canary_layer_trainable_variables,\n",
    "    opt,\n",
    "    loss_threshold=loss_threshold\n",
    ")\n",
    "\n",
    "plt.plot(logs[0]);"
   ]
  },
  {
   "cell_type": "markdown",
   "metadata": {},
   "source": [
    "## Evaluate FedSGD"
   ]
  },
  {
   "cell_type": "code",
   "execution_count": 6,
   "metadata": {},
   "outputs": [
    {
     "name": "stdout",
     "output_type": "stream",
     "text": [
      "Max number of iterations evaluation reached!\n"
     ]
    },
    {
     "data": {
      "text/plain": [
       "{'accuracy': 1.0, 'recall': 1.0, 'precision': 1.0}"
      ]
     },
     "execution_count": 6,
     "metadata": {},
     "output_type": "execute_result"
    }
   ],
   "source": [
    "test_canary_fn = partial(\n",
    "    evaluate_canary_attack,\n",
    "    target=x_target,\n",
    "    variables=pre_canary_layer_trainable_variables,\n",
    "    loss_function=loss_function,\n",
    "    g_canary_shift=g_canary_shift,\n",
    "    kernel_idx=kernel_idx,\n",
    "    max_num_batches_eval=max_num_batches_eval\n",
    ")\n",
    "    \n",
    "\n",
    "out, failed = test_canary_fn(model, validation)\n",
    "out"
   ]
  },
  {
   "cell_type": "markdown",
   "metadata": {},
   "source": [
    "## Evaluate FedAVG (run local SGD step and test canary again)"
   ]
  },
  {
   "cell_type": "code",
   "execution_count": 7,
   "metadata": {},
   "outputs": [
    {
     "name": "stdout",
     "output_type": "stream",
     "text": [
      "Max number of iterations evaluation reached!\n",
      " FedAVG round: 1\n",
      "\t{'accuracy': 1.0, 'recall': 1.0, 'precision': 1.0}\n",
      "Max number of iterations evaluation reached!\n",
      " FedAVG round: 2\n",
      "\t{'accuracy': 1.0, 'recall': 1.0, 'precision': 1.0}\n",
      "Max number of iterations evaluation reached!\n",
      " FedAVG round: 3\n",
      "\t{'accuracy': 1.0, 'recall': 1.0, 'precision': 1.0}\n",
      "Max number of iterations evaluation reached!\n",
      " FedAVG round: 4\n",
      "\t{'accuracy': 1.0, 'recall': 1.0, 'precision': 1.0}\n",
      "Max number of iterations evaluation reached!\n",
      " FedAVG round: 5\n",
      "\t{'accuracy': 1.0, 'recall': 1.0, 'precision': 1.0}\n",
      "Max number of iterations evaluation reached!\n",
      " FedAVG round: 6\n",
      "\t{'accuracy': 1.0, 'recall': 1.0, 'precision': 1.0}\n",
      "Max number of iterations evaluation reached!\n",
      " FedAVG round: 7\n",
      "\t{'accuracy': 1.0, 'recall': 1.0, 'precision': 1.0}\n",
      "Max number of iterations evaluation reached!\n",
      " FedAVG round: 8\n",
      "\t{'accuracy': 1.0, 'recall': 1.0, 'precision': 1.0}\n",
      "Max number of iterations evaluation reached!\n",
      " FedAVG round: 9\n",
      "\t{'accuracy': 1.0, 'recall': 1.0, 'precision': 1.0}\n",
      "Max number of iterations evaluation reached!\n",
      " FedAVG round: 10\n",
      "\t{'accuracy': 1.0, 'recall': 1.0, 'precision': 1.0}\n",
      "Max number of iterations evaluation reached!\n",
      " FedAVG round: 11\n",
      "\t{'accuracy': 1.0, 'recall': 1.0, 'precision': 1.0}\n",
      "Max number of iterations evaluation reached!\n",
      " FedAVG round: 12\n",
      "\t{'accuracy': 1.0, 'recall': 1.0, 'precision': 1.0}\n",
      "Max number of iterations evaluation reached!\n",
      " FedAVG round: 13\n",
      "\t{'accuracy': 1.0, 'recall': 1.0, 'precision': 1.0}\n",
      "Max number of iterations evaluation reached!\n",
      " FedAVG round: 14\n",
      "\t{'accuracy': 1.0, 'recall': 1.0, 'precision': 1.0}\n",
      "Max number of iterations evaluation reached!\n",
      " FedAVG round: 15\n",
      "\t{'accuracy': 1.0, 'recall': 1.0, 'precision': 1.0}\n"
     ]
    }
   ],
   "source": [
    "canary_scores_FedAVG = local_training(\n",
    "    model,\n",
    "    validation,\n",
    "    num_iter_fedAVG,\n",
    "    learning_rate_fedAVG,\n",
    "    loss_function,\n",
    "    test_canary_fn\n",
    ")"
   ]
  }
 ],
 "metadata": {
  "kernelspec": {
   "display_name": "Python 3",
   "language": "python",
   "name": "python3"
  },
  "language_info": {
   "codemirror_mode": {
    "name": "ipython",
    "version": 3
   },
   "file_extension": ".py",
   "mimetype": "text/x-python",
   "name": "python",
   "nbconvert_exporter": "python",
   "pygments_lexer": "ipython3",
   "version": "3.7.4"
  }
 },
 "nbformat": 4,
 "nbformat_minor": 4
}
