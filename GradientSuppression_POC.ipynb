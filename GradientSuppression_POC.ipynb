{
 "cells": [
  {
   "cell_type": "markdown",
   "metadata": {},
   "source": [
    "# Gradient recovery and inversion under Secure Aggregation via gradient supression attack."
   ]
  },
  {
   "cell_type": "code",
   "execution_count": 1,
   "metadata": {},
   "outputs": [],
   "source": [
    "import tensorflow as tf\n",
    "import numpy as np\n",
    "import matplotlib.pyplot as plt\n",
    "import math\n",
    "\n",
    "from federated_learning import FL_server, FL_SGD_client_classification, setup_users_classification\n",
    "from utility import check_gradient\n",
    "from gradient_inversion import gradient_inversion, plot"
   ]
  },
  {
   "cell_type": "markdown",
   "metadata": {},
   "source": [
    "# Evading Secure Aggregation via gradient supression"
   ]
  },
  {
   "cell_type": "markdown",
   "metadata": {},
   "source": [
    "## Setup"
   ]
  },
  {
   "cell_type": "code",
   "execution_count": 2,
   "metadata": {},
   "outputs": [],
   "source": [
    "num_users = 10\n",
    "batch_size = 16\n",
    "local_training_set_size = 32\n",
    "\n",
    "dataset, _ = tf.keras.datasets.mnist.load_data()\n",
    "input_shape = (28, 28, 1)\n",
    "num_classes = 10\n",
    "# Pick target user for gradient-suppression-based SA evasion\n",
    "target_user = 0\n",
    "\n",
    "# Model\n",
    "def make_model(input_shape, num_classes):\n",
    "    xin = tf.keras.layers.Input(input_shape)\n",
    "    \n",
    "    x = tf.keras.layers.Conv2D(32, 3, 1, activation='relu')(xin)\n",
    "    x = tf.keras.layers.AvgPool2D()(x)\n",
    "    x = tf.keras.layers.Conv2D(64, 3, 1, activation='relu')(x)\n",
    "    x = tf.keras.layers.Flatten()(x)\n",
    "    x = tf.keras.layers.Dense(num_classes)(x)\n",
    "    y = tf.keras.layers.Softmax()(x)\n",
    "    \n",
    "    model = tf.keras.Model(inputs=xin, outputs=y)\n",
    "    return model"
   ]
  },
  {
   "cell_type": "markdown",
   "metadata": {},
   "source": [
    "## Setup users FL"
   ]
  },
  {
   "cell_type": "code",
   "execution_count": 3,
   "metadata": {},
   "outputs": [],
   "source": [
    "def parse_mnist(x):\n",
    "    x = (x / (255/2) - 1)\n",
    "    x = x[:,:,:,np.newaxis]\n",
    "    return x\n",
    "\n",
    "model = make_model(input_shape, num_classes)\n",
    "users = setup_users_classification(\n",
    "    FL_SGD_client_classification,\n",
    "    num_users,\n",
    "    model,\n",
    "    dataset,\n",
    "    batch_size,\n",
    "    local_training_set_size,\n",
    "    parse_mnist\n",
    ")"
   ]
  },
  {
   "cell_type": "markdown",
   "metadata": {},
   "source": [
    "## Setup Gradient suppression"
   ]
  },
  {
   "cell_type": "code",
   "execution_count": 4,
   "metadata": {},
   "outputs": [],
   "source": [
    "from utility import init_list_variables\n",
    "\n",
    "def zero_all_network(var):\n",
    "    var = init_list_variables(model.trainable_variables)\n",
    "    return var\n",
    "\n",
    "suppressing_technique = zero_all_network"
   ]
  },
  {
   "cell_type": "markdown",
   "metadata": {},
   "source": [
    "## Run FL for one round"
   ]
  },
  {
   "cell_type": "code",
   "execution_count": 5,
   "metadata": {},
   "outputs": [
    {
     "name": "stdout",
     "output_type": "stream",
     "text": [
      "layer: 0 with shape (288,) recovered?: True\n",
      "layer: 1 with shape (32,) recovered?: True\n",
      "layer: 2 with shape (18432,) recovered?: True\n",
      "layer: 3 with shape (64,) recovered?: True\n",
      "layer: 4 with shape (77440,) recovered?: True\n",
      "layer: 5 with shape (10,) recovered?: False\n",
      "\tRecovered_gradient: 0.999896121164274\n"
     ]
    }
   ],
   "source": [
    "FL = FL_server(users, model, suppressing_technique, target=target_user)\n",
    "# Run FL\n",
    "FL.models_distribution()\n",
    "# Get secure aggregation output\n",
    "agg = FL.SA()\n",
    "\n",
    "# check if gradient has been recovered\n",
    "recovered_gradient = check_gradient(agg, users[target_user].gradient)\n",
    "print(f'\\tRecovered_gradient: {recovered_gradient}')"
   ]
  },
  {
   "cell_type": "markdown",
   "metadata": {},
   "source": [
    "# Invert recovered gradient"
   ]
  },
  {
   "cell_type": "code",
   "execution_count": 6,
   "metadata": {},
   "outputs": [],
   "source": [
    "num_iter = 1500\n",
    "without_last_bias = True\n",
    "rng_seed = None\n",
    "w_reg = 1 / 25000\n",
    "setps_lrs = [1000, 1250]\n",
    "\n",
    "class lr_schlr(tf.keras.optimizers.schedules.LearningRateSchedule):\n",
    "    def __init__(self, initial_learning_rate, steps):\n",
    "        self.learning_rate = initial_learning_rate\n",
    "        self.steps = steps \n",
    "\n",
    "    def __call__(self, step):\n",
    "        if step in self.steps:\n",
    "            self.learning_rate = self.learning_rate *.1\n",
    "            print(f\"\\t[Scaling learning rate: {self.learning_rate}]\")\n",
    "        return self.learning_rate\n",
    "    \n",
    "opt = tf.keras.optimizers.Adam(lr_schlr(.1, setps_lrs))"
   ]
  },
  {
   "cell_type": "markdown",
   "metadata": {},
   "source": [
    "## Setup gradient inversion"
   ]
  },
  {
   "cell_type": "code",
   "execution_count": 7,
   "metadata": {},
   "outputs": [
    {
     "name": "stdout",
     "output_type": "stream",
     "text": [
      "Running inversion...\n",
      "\t[0%] loss: 1.2719085216522217\n",
      "\t[10%] loss: 0.027946019545197487\n",
      "\t[20%] loss: 0.016531391069293022\n",
      "\t[30%] loss: 0.015095585957169533\n",
      "\t[40%] loss: 0.01325434073805809\n",
      "\t[50%] loss: 0.012362491339445114\n",
      "\t[60%] loss: 0.011116664856672287\n",
      "\t[Scale Learning rate: 0.010000000000000002]\n",
      "\t[70%] loss: 0.009228207170963287\n",
      "\t[80%] loss: 0.009126379154622555\n",
      "\t[Scale Learning rate: 0.0010000000000000002]\n",
      "\t[90%] loss: 0.008921388536691666\n"
     ]
    }
   ],
   "source": [
    "inv_g, _, logs = gradient_inversion(\n",
    "    model,\n",
    "    agg,\n",
    "    opt,\n",
    "    num_iter,\n",
    "    batch_size,\n",
    "    input_shape,\n",
    "    num_classes, \n",
    "    without_last_bias,\n",
    "    w_reg,\n",
    "    rng_seed\n",
    ")"
   ]
  },
  {
   "cell_type": "markdown",
   "metadata": {},
   "source": [
    "## Plot inverted gradient (unsorted)"
   ]
  },
  {
   "cell_type": "code",
   "execution_count": 8,
   "metadata": {},
   "outputs": [
    {
     "data": {
      "image/png": "[encoded data removed]",
      "text/plain": [
       "<Figure size 3456x216 with 16 Axes>"
      ]
     },
     "metadata": {},
     "output_type": "display_data"
    },
    {
     "data": {
      "image/png": "[encoded data removed]",
      "text/plain": [
       "<Figure size 3456x216 with 16 Axes>"
      ]
     },
     "metadata": {},
     "output_type": "display_data"
    }
   ],
   "source": [
    "gt = users[target_user].data[0][:,:,:,0]\n",
    "recovered = inv_g[:,:,:,0]\n",
    "\n",
    "cmap = \"gray\"\n",
    "# Ground truth \n",
    "fig, ax = plot(gt, cmap=cmap);\n",
    "# Recovered\n",
    "fig, ax = plot(recovered, cmap=cmap);"
   ]
  },
  {
   "cell_type": "code",
   "execution_count": null,
   "metadata": {},
   "outputs": [],
   "source": []
  }
 ],
 "metadata": {
  "kernelspec": {
   "display_name": "Python 3",
   "language": "python",
   "name": "python3"
  },
  "language_info": {
   "codemirror_mode": {
    "name": "ipython",
    "version": 3
   },
   "file_extension": ".py",
   "mimetype": "text/x-python",
   "name": "python",
   "nbconvert_exporter": "python",
   "pygments_lexer": "ipython3",
   "version": "3.8.5"
  }
 },
 "nbformat": 4,
 "nbformat_minor": 4
}
