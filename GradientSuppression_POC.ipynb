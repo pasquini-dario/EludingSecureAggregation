{
 "cells": [
  {
   "cell_type": "markdown",
   "metadata": {},
   "source": [
    "# Gradient recovery and inversion under Secure Aggregation via gradient supression attack."
   ]
  },
  {
   "cell_type": "code",
   "execution_count": 1,
   "metadata": {},
   "outputs": [],
   "source": [
    "import os\n",
    "os.environ['CUDA_VISIBLE_DEVICES'] = '0'\n",
    "\n",
    "import tensorflow as tf\n",
    "import numpy as np\n",
    "import matplotlib.pyplot as plt\n",
    "import math\n",
    "\n",
    "from federated_learning import FL_server, FL_SGD_client_classification, setup_users_classification\n",
    "from gradient_inversion import gradient_inversion, check_gradient, plot\n",
    "from utility import lr_schlr, clone_list_tensors"
   ]
  },
  {
   "cell_type": "markdown",
   "metadata": {},
   "source": [
    "# Evading Secure Aggregation via gradient supression"
   ]
  },
  {
   "cell_type": "markdown",
   "metadata": {},
   "source": [
    "## Setup"
   ]
  },
  {
   "cell_type": "code",
   "execution_count": 2,
   "metadata": {},
   "outputs": [],
   "source": [
    "num_users = 10\n",
    "batch_size = 16\n",
    "local_training_set_size = 32\n",
    "\n",
    "dataset, _ = tf.keras.datasets.mnist.load_data()\n",
    "# if including the last layer's bias term in the architecture\n",
    "with_last_layer_bias_term = True\n",
    "input_shape = (28, 28, 1)\n",
    "num_classes = 10\n",
    "# Pick target user for gradient-suppression-based SA evasion\n",
    "target_user = 0\n",
    "\n",
    "# Model\n",
    "def make_model(input_shape, num_classes, with_last_layer_bias_term):\n",
    "    xin = tf.keras.layers.Input(input_shape)\n",
    "    \n",
    "    x = tf.keras.layers.Conv2D(32, 3, 1, activation='relu')(xin)\n",
    "    x = tf.keras.layers.Conv2D(64, 3, 2, activation='relu')(x)\n",
    "    x = tf.keras.layers.Conv2D(128, 3, 2, activation='relu')(x)\n",
    "    x = tf.keras.layers.Flatten()(x)\n",
    "    x = tf.keras.layers.Dense(num_classes, use_bias=with_last_layer_bias_term)(x)\n",
    "    y = tf.keras.layers.Softmax()(x)\n",
    "    \n",
    "    model = tf.keras.Model(inputs=xin, outputs=y)\n",
    "    return model"
   ]
  },
  {
   "cell_type": "markdown",
   "metadata": {},
   "source": [
    "## Setup users FL"
   ]
  },
  {
   "cell_type": "code",
   "execution_count": 3,
   "metadata": {},
   "outputs": [],
   "source": [
    "def parse_mnist(x):\n",
    "    x = (x / (255/2) - 1)\n",
    "    x = x[:,:,:,np.newaxis]\n",
    "    return x\n",
    "\n",
    "model = make_model(input_shape, num_classes, with_last_layer_bias_term)\n",
    "users = setup_users_classification(\n",
    "    FL_SGD_client_classification,\n",
    "    num_users,\n",
    "    model,\n",
    "    dataset,\n",
    "    batch_size,\n",
    "    local_training_set_size,\n",
    "    parse_mnist\n",
    ")"
   ]
  },
  {
   "cell_type": "markdown",
   "metadata": {},
   "source": [
    "## Setup Gradient suppression"
   ]
  },
  {
   "cell_type": "code",
   "execution_count": 4,
   "metadata": {},
   "outputs": [],
   "source": [
    "from suppressing_nets import zero_all_network, zero_kernel_i\n",
    "\n",
    "def kill_last_two_layers_cnn(model):\n",
    "    var = clone_list_tensors(model.trainable_variables)\n",
    "    var = zero_kernel_i(var, -1)\n",
    "    var = zero_kernel_i(var, -2)\n",
    "    var = zero_kernel_i(var, -3)\n",
    "    var = zero_kernel_i(var, -4)\n",
    "    return var\n",
    "\n",
    "suppressing_technique = kill_last_two_layers_cnn"
   ]
  },
  {
   "cell_type": "markdown",
   "metadata": {},
   "source": [
    "## Run FL for one round"
   ]
  },
  {
   "cell_type": "code",
   "execution_count": 5,
   "metadata": {},
   "outputs": [
    {
     "name": "stdout",
     "output_type": "stream",
     "text": [
      "Sending honest parameters to user 0\n",
      "Sending tampered parameters to user 1\n",
      "Sending tampered parameters to user 2\n",
      "Sending tampered parameters to user 3\n",
      "Sending tampered parameters to user 4\n",
      "Sending tampered parameters to user 5\n",
      "Sending tampered parameters to user 6\n",
      "Sending tampered parameters to user 7\n",
      "Sending tampered parameters to user 8\n",
      "Sending tampered parameters to user 9\n",
      "End model distribution\n",
      "\n",
      "Receiving and aggregating model update from user 0\n",
      "Receiving and aggregating model update from user 1\n",
      "Receiving and aggregating model update from user 2\n",
      "Receiving and aggregating model update from user 3\n",
      "Receiving and aggregating model update from user 4\n",
      "Receiving and aggregating model update from user 5\n",
      "Receiving and aggregating model update from user 6\n",
      "Receiving and aggregating model update from user 7\n",
      "Receiving and aggregating model update from user 8\n",
      "Receiving and aggregating model update from user 9\n",
      "End aggregation\n",
      "\n",
      "Checking results...\n",
      "\tlayer: 0 with shape (288,) recovered?: True\n",
      "\tlayer: 1 with shape (32,) recovered?: True\n",
      "\tlayer: 2 with shape (18432,) recovered?: True\n",
      "\tlayer: 3 with shape (64,) recovered?: True\n",
      "\tlayer: 4 with shape (73728,) recovered?: True\n",
      "\tlayer: 5 with shape (128,) recovered?: True\n",
      "\tlayer: 6 with shape (32000,) recovered?: True\n",
      "\tlayer: 7 with shape (10,) recovered?: False\n",
      "Recovered gradient: 99.992%\n"
     ]
    }
   ],
   "source": [
    "FL = FL_server(users, model, suppressing_technique, target=target_user)\n",
    "# Run FL\n",
    "FL.models_distribution()\n",
    "# Get secure aggregation output\n",
    "agg = FL.SA()\n",
    "\n",
    "# check if gradient has been recovered\n",
    "print(\"Checking results...\")\n",
    "recovered_gradient = check_gradient(agg, users[target_user].gradient)\n",
    "print(f'Recovered gradient: {np.round(recovered_gradient*100, 3)}%')"
   ]
  },
  {
   "cell_type": "markdown",
   "metadata": {},
   "source": [
    "# Invert recovered gradient"
   ]
  },
  {
   "cell_type": "code",
   "execution_count": 6,
   "metadata": {},
   "outputs": [],
   "source": [
    "num_iter = 1800\n",
    "without_last_bias = with_last_layer_bias_term\n",
    "rng_seed = None\n",
    "w_reg = 1 / 25000\n",
    "init_lr = .1\n",
    "setps_lrs = [1000, 1250, 1500]\n",
    "    \n",
    "opt = tf.keras.optimizers.Adam(lr_schlr(init_lr, setps_lrs))"
   ]
  },
  {
   "cell_type": "markdown",
   "metadata": {},
   "source": [
    "## Setup gradient inversion"
   ]
  },
  {
   "cell_type": "code",
   "execution_count": 7,
   "metadata": {},
   "outputs": [
    {
     "name": "stdout",
     "output_type": "stream",
     "text": [
      "Running inversion...\n",
      "\t[0%] loss: 1.1560133695602417\n",
      "\t[10%] loss: 0.06134376674890518\n",
      "\t[20%] loss: 0.049305856227874756\n",
      "\t[30%] loss: 0.050309278070926666\n",
      "\t[40%] loss: 0.04426949471235275\n",
      "\t[50%] loss: 0.04298174008727074\n",
      "\t[Scaling learning rate: 0.01]\n",
      "\t[60%] loss: 0.03344380110502243\n",
      "\t[Scaling learning rate: 0.001]\n",
      "\t[70%] loss: 0.03274098411202431\n",
      "\t[80%] loss: 0.0304882675409317\n",
      "\t[Scaling learning rate: 0.0001]\n",
      "\t[90%] loss: 0.029743604362010956\n"
     ]
    }
   ],
   "source": [
    "inv_g, _, logs = gradient_inversion(\n",
    "    model,\n",
    "    agg,\n",
    "    opt,\n",
    "    num_iter,\n",
    "    batch_size,\n",
    "    input_shape,\n",
    "    num_classes, \n",
    "    without_last_bias,\n",
    "    w_reg,\n",
    "    rng_seed\n",
    ")"
   ]
  },
  {
   "cell_type": "markdown",
   "metadata": {},
   "source": [
    "## Plot inverted gradient (unsorted)"
   ]
  },
  {
   "cell_type": "code",
   "execution_count": 8,
   "metadata": {},
   "outputs": [
    {
     "data": {
      "image/png": "[encoded data removed]",
      "text/plain": [
       "<Figure size 3456x216 with 16 Axes>"
      ]
     },
     "metadata": {},
     "output_type": "display_data"
    },
    {
     "data": {
      "image/png": "[encoded data removed]",
      "text/plain": [
       "<Figure size 3456x216 with 16 Axes>"
      ]
     },
     "metadata": {},
     "output_type": "display_data"
    }
   ],
   "source": [
    "gt = users[target_user].data[0][:,:,:,0]\n",
    "recovered = inv_g[:,:,:,0]\n",
    "\n",
    "cmap = \"gray\"\n",
    "# Ground truth \n",
    "fig, ax = plot(gt, cmap=cmap);\n",
    "# Recovered\n",
    "fig, ax = plot(recovered, cmap=cmap);"
   ]
  }
 ],
 "metadata": {
  "kernelspec": {
   "display_name": "Python 3",
   "language": "python",
   "name": "python3"
  },
  "language_info": {
   "codemirror_mode": {
    "name": "ipython",
    "version": 3
   },
   "file_extension": ".py",
   "mimetype": "text/x-python",
   "name": "python",
   "nbconvert_exporter": "python",
   "pygments_lexer": "ipython3",
   "version": "3.7.4"
  }
 },
 "nbformat": 4,
 "nbformat_minor": 4
}
